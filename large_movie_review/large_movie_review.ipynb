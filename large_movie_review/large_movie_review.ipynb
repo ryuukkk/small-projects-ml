{
 "cells": [
  {
   "cell_type": "code",
   "execution_count": 45,
   "id": "initial_id",
   "metadata": {
    "collapsed": true,
    "ExecuteTime": {
     "end_time": "2024-02-05T02:27:51.996659433Z",
     "start_time": "2024-02-05T02:27:51.991115752Z"
    }
   },
   "outputs": [],
   "source": [
    "from collections import defaultdict\n",
    "import requests\n",
    "import os\n",
    "import tarfile\n",
    "import tensorflow as tf\n",
    "from tensorflow import keras"
   ]
  },
  {
   "cell_type": "code",
   "outputs": [],
   "source": [
    "URL = 'https://ai.stanford.edu/~amaas/data/sentiment/aclImdb_v1.tar.gz'\n",
    "DATA_DIR = 'data'\n",
    "ROOT_DIR = ''"
   ],
   "metadata": {
    "collapsed": false,
    "ExecuteTime": {
     "end_time": "2024-02-05T01:47:27.444774050Z",
     "start_time": "2024-02-05T01:47:27.441406165Z"
    }
   },
   "id": "a1ad5e177f7a0ffd",
   "execution_count": 3
  },
  {
   "cell_type": "code",
   "outputs": [],
   "source": [
    "def get_data(url=URL, root_dir=ROOT_DIR, data_dir=DATA_DIR):\n",
    "    response = requests.get(url)\n",
    "    \n",
    "    with open('temp.tar.gz', 'wb') as f:\n",
    "        f.write(response.content)\n",
    "    \n",
    "    with tarfile.open('temp.tar.gz', 'r:gz') as tar_file:\n",
    "        tar_file.extractall(path=root_dir)\n",
    "    \n",
    "    os.remove('temp.tar.gz')\n",
    "    os.rename('aclImdb', data_dir)"
   ],
   "metadata": {
    "collapsed": false,
    "ExecuteTime": {
     "end_time": "2024-02-05T01:47:27.445021856Z",
     "start_time": "2024-02-05T01:47:27.443313524Z"
    }
   },
   "id": "8eb938022784eda5",
   "execution_count": 4
  },
  {
   "cell_type": "code",
   "outputs": [],
   "source": [
    "get_data()"
   ],
   "metadata": {
    "collapsed": false,
    "ExecuteTime": {
     "end_time": "2024-02-04T15:56:07.150267412Z",
     "start_time": "2024-02-04T15:55:58.691094285Z"
    }
   },
   "id": "39e34e1239bdb989",
   "execution_count": 21
  },
  {
   "cell_type": "code",
   "outputs": [],
   "source": [],
   "metadata": {
    "collapsed": false
   },
   "id": "4e00b7d4feb85680"
  }
 ],
 "metadata": {
  "kernelspec": {
   "display_name": "Python 3",
   "language": "python",
   "name": "python3"
  },
  "language_info": {
   "codemirror_mode": {
    "name": "ipython",
    "version": 2
   },
   "file_extension": ".py",
   "mimetype": "text/x-python",
   "name": "python",
   "nbconvert_exporter": "python",
   "pygments_lexer": "ipython2",
   "version": "2.7.6"
  }
 },
 "nbformat": 4,
 "nbformat_minor": 5
}
