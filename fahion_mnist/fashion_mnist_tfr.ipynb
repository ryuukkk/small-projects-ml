{
 "cells": [
  {
   "cell_type": "markdown",
   "source": [
    "## Working with TFRecords and Protobufs\n",
    "\n",
    "This notebook deals writing files to, reading from, and working with a very efficient TensorFlow format, TFRecords. Some parts of the notebook will also explain the Example Protobuf by Tensorflow."
   ],
   "metadata": {
    "collapsed": false
   },
   "id": "f0489f3b7b336af4"
  },
  {
   "cell_type": "code",
   "execution_count": null,
   "id": "initial_id",
   "metadata": {
    "collapsed": true
   },
   "outputs": [],
   "source": [
    "import numpy as np\n",
    "import tensorflow as tf\n",
    "from tensorflow import keras\n",
    "from tensorflow.train import BytesList, Feature, Features, Example, Int64List"
   ]
  },
  {
   "cell_type": "code",
   "outputs": [],
   "source": [
    "fashion_mnist = keras.datasets.fashion_mnist.load_data()"
   ],
   "metadata": {
    "collapsed": false,
    "ExecuteTime": {
     "end_time": "2024-02-02T22:50:24.194336050Z",
     "start_time": "2024-02-02T22:50:23.809830107Z"
    }
   },
   "id": "54f55b0e7380cc97",
   "execution_count": 5
  },
  {
   "cell_type": "code",
   "outputs": [],
   "source": [
    "X_train, y_train, X_test, y_test = fashion_mnist[0][0], fashion_mnist[0][1], fashion_mnist[1][0], fashion_mnist[1][1]"
   ],
   "metadata": {
    "collapsed": false,
    "ExecuteTime": {
     "end_time": "2024-02-02T22:50:24.468876784Z",
     "start_time": "2024-02-02T22:50:24.440197384Z"
    }
   },
   "id": "e81463806bb27a3d",
   "execution_count": 6
  },
  {
   "cell_type": "code",
   "outputs": [
    {
     "data": {
      "text/plain": "((60000, 28, 28), (60000,))"
     },
     "execution_count": 7,
     "metadata": {},
     "output_type": "execute_result"
    }
   ],
   "source": [
    "X_train.shape, y_train.shape"
   ],
   "metadata": {
    "collapsed": false,
    "ExecuteTime": {
     "end_time": "2024-02-02T22:50:25.067388424Z",
     "start_time": "2024-02-02T22:50:25.051181496Z"
    }
   },
   "id": "c059bafc41351da8",
   "execution_count": 7
  },
  {
   "cell_type": "code",
   "outputs": [],
   "source": [
    "def _bytes_feature(value):\n",
    "    if isinstance(value, type(tf.constant(0))) or isinstance(value, np.ndarray):\n",
    "        value = value.numpy().tobytes()\n",
    "    return Feature(bytes_list=BytesList(value=[value]))\n",
    "\n",
    "def _int64_feature(value):\n",
    "    return Feature(int64_list = Int64List(value=[value]))"
   ],
   "metadata": {
    "collapsed": false,
    "ExecuteTime": {
     "end_time": "2024-02-02T22:50:43.488295092Z",
     "start_time": "2024-02-02T22:50:43.430849771Z"
    }
   },
   "id": "52573398cdb37e31",
   "execution_count": 12
  },
  {
   "cell_type": "code",
   "outputs": [],
   "source": [
    "def serialize_example(image, label):\n",
    "    features = {\n",
    "        'image': _bytes_feature(image),\n",
    "        'label': _int64_feature(label)\n",
    "    }\n",
    "    \n",
    "    serialize_example = Example(features=Features(feature=features))\n",
    "    return serialize_example.SerializeToString()"
   ],
   "metadata": {
    "collapsed": false,
    "ExecuteTime": {
     "end_time": "2024-02-02T22:50:43.728631670Z",
     "start_time": "2024-02-02T22:50:43.708920193Z"
    }
   },
   "id": "5b6f0fe7d09b1699",
   "execution_count": 13
  },
  {
   "cell_type": "code",
   "outputs": [],
   "source": [
    "def write_TFRExample(dataset, filename='data/fashion_mnist_train.tfrecord'):\n",
    "    with tf.io.TFRecordWriter(filename) as f:\n",
    "        for image, label in dataset:\n",
    "            example = serialize_example(image, label)\n",
    "            f.write(example)"
   ],
   "metadata": {
    "collapsed": false,
    "ExecuteTime": {
     "end_time": "2024-02-02T22:50:44.175049876Z",
     "start_time": "2024-02-02T22:50:44.170403592Z"
    }
   },
   "id": "12c8439bdd8586b2",
   "execution_count": 14
  },
  {
   "cell_type": "code",
   "outputs": [],
   "source": [
    "dataset = tf.data.Dataset.from_tensor_slices((X_train, y_train))\n",
    "write_TFRExample(dataset)"
   ],
   "metadata": {
    "collapsed": false
   },
   "id": "641040645ff0b6a7",
   "execution_count": null
  },
  {
   "cell_type": "code",
   "outputs": [
    {
     "data": {
      "text/plain": "b'\\n(\\n\\x0e\\n\\x05label\\x12\\x05\\x1a\\x03\\n\\x01\\x17\\n\\x16\\n\\x05image\\x12\\r\\n\\x0b\\n\\t123212131'"
     },
     "execution_count": 17,
     "metadata": {},
     "output_type": "execute_result"
    }
   ],
   "source": [
    "serialize_example(b'123212131', 23)"
   ],
   "metadata": {
    "collapsed": false,
    "ExecuteTime": {
     "end_time": "2024-02-02T22:50:55.761217318Z",
     "start_time": "2024-02-02T22:50:55.727095094Z"
    }
   },
   "id": "f2126860335b0bec",
   "execution_count": 17
  }
 ],
 "metadata": {
  "kernelspec": {
   "display_name": "Python 3",
   "language": "python",
   "name": "python3"
  },
  "language_info": {
   "codemirror_mode": {
    "name": "ipython",
    "version": 2
   },
   "file_extension": ".py",
   "mimetype": "text/x-python",
   "name": "python",
   "nbconvert_exporter": "python",
   "pygments_lexer": "ipython2",
   "version": "2.7.6"
  }
 },
 "nbformat": 4,
 "nbformat_minor": 5
}
