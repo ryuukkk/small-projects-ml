{
 "cells": [
  {
   "cell_type": "code",
   "execution_count": 20,
   "metadata": {},
   "outputs": [],
   "source": [
    "import tensorflow as tf\n",
    "from tensorflow import keras\n",
    "import os\n",
    "import warnings\n",
    "from tensorflow.python.util import deprecation"
   ]
  },
  {
   "cell_type": "code",
   "execution_count": 26,
   "metadata": {},
   "outputs": [],
   "source": [
    "tf.get_logger().setLevel('ERROR')\n",
    "os.environ['TF_CPP_MIN_LOG_LEVEL'] = '3'\n",
    "warnings.filterwarnings('ignore')\n",
    "warnings.filterwarnings('ignore', category=UserWarning, module='tensorflow')\n",
    "warnings.filterwarnings('ignore', category=UserWarning, module='tensorflow.core.framework.local_rendezvous')\n",
    "deprecation._PRINT_DEPRECATION_WARNINGS = False"
   ]
  },
  {
   "cell_type": "code",
   "execution_count": 3,
   "metadata": {},
   "outputs": [
    {
     "data": {
      "text/plain": [
       "[PhysicalDevice(name='/physical_device:CPU:0', device_type='CPU'),\n",
       " PhysicalDevice(name='/physical_device:GPU:0', device_type='GPU')]"
      ]
     },
     "execution_count": 3,
     "metadata": {},
     "output_type": "execute_result"
    }
   ],
   "source": [
    "tf.config.list_physical_devices()"
   ]
  },
  {
   "cell_type": "markdown",
   "metadata": {},
   "source": [
    "### Loading and Preprocessing Data for Custom Models\n",
    "\n",
    "The following functions read and preprocess the CSV data on file. The `parse_csv_line()` function works on each line and separates the review and the label while ensuring consistency. The `preprocess()` function also works on each element of the dataset iteratively and vectorizes the review text using an adapted vectorizer. In the `prepare_dataset()` function, we combine both of these functionalities, plus adapt our vectorizer on a subset of the data, and finally return a shuffled, batched, and prefetched dataset along with the adapted vectorizer. Lastly, we save both of these for later use. While the functions look clean and simple, a lot of experimentation went under the hoods which I have cleaned up."
   ]
  },
  {
   "cell_type": "code",
   "execution_count": 162,
   "metadata": {},
   "outputs": [],
   "source": [
    "def parse_csv_line(line):\n",
    "    parts = tf.strings.split(line, sep=',')\n",
    "    label = tf.strings.to_number(parts[-1], out_type=tf.int32)\n",
    "    review = tf.strings.reduce_join(parts[:-1], separator=',')\n",
    "    return review, label\n",
    "\n",
    "def preprocess(text, label, vectorizer):\n",
    "    # text = tf.expand_dims(text, axis=-1)  # Add an extra dimension for the vectorizer\n",
    "    text = vectorizer(text)\n",
    "    return text, label"
   ]
  },
  {
   "cell_type": "code",
   "execution_count": 163,
   "metadata": {},
   "outputs": [],
   "source": [
    "def prepare_dataset_from_csv(filename, header=True, sample_size=5000, max_tokens=20000, output_sequence_length=500, batch_size=32):\n",
    "    \n",
    "    dataset = tf.data.TextLineDataset([filename], num_parallel_reads=tf.data.AUTOTUNE)\n",
    "        \n",
    "    # Skip header if present\n",
    "    if header:\n",
    "        dataset = dataset.skip(1)\n",
    "    \n",
    "    dataset = dataset.map(parse_csv_line, num_parallel_calls=tf.data.AUTOTUNE)\n",
    "    \n",
    "    # Create and adapt the TextVectorization layer\n",
    "    vectorizer = keras.layers.TextVectorization(max_tokens=max_tokens, output_sequence_length=output_sequence_length)\n",
    "    vectorizer.adapt(dataset.take(sample_size).map(lambda x, y: x))\n",
    "\n",
    "    # Preprocess text\n",
    "    dataset = dataset.map(lambda text, label: preprocess(text, label, vectorizer), num_parallel_calls=tf.data.AUTOTUNE)\n",
    "    dataset = dataset.shuffle(buffer_size=10000).batch(batch_size).prefetch(tf.data.AUTOTUNE)\n",
    "    \n",
    "    return dataset, vectorizer"
   ]
  },
  {
   "cell_type": "code",
   "execution_count": 164,
   "metadata": {},
   "outputs": [
    {
     "name": "stderr",
     "output_type": "stream",
     "text": [
      "2024-07-24 21:30:44.372711: W tensorflow/core/framework/local_rendezvous.cc:404] Local rendezvous is aborting with status: OUT_OF_RANGE: End of sequence\n"
     ]
    }
   ],
   "source": [
    "file_path = 'data/movie.csv'\n",
    "dataset, vectorizer = prepare_dataset_from_csv(file_path)"
   ]
  },
  {
   "cell_type": "code",
   "execution_count": 165,
   "metadata": {},
   "outputs": [
    {
     "name": "stdout",
     "output_type": "stream",
     "text": [
      "(32, 500) (32,)\n",
      "(32, 500) (32,)\n"
     ]
    },
    {
     "name": "stderr",
     "output_type": "stream",
     "text": [
      "2024-07-24 21:30:44.808068: W tensorflow/core/framework/local_rendezvous.cc:404] Local rendezvous is aborting with status: OUT_OF_RANGE: End of sequence\n"
     ]
    }
   ],
   "source": [
    "for i in dataset.take(2).as_numpy_iterator():\n",
    "    print(i[0].shape, i[1].shape)\n"
   ]
  },
  {
   "cell_type": "markdown",
   "metadata": {},
   "source": [
    "#### Saving the Dataset\n",
    "I am saving the preprocessed dataset as a TFRecords file."
   ]
  },
  {
   "cell_type": "code",
   "execution_count": 167,
   "metadata": {},
   "outputs": [],
   "source": [
    "def _create_feature(value, _type):\n",
    "    if isinstance(value, type(tf.constant(0))):\n",
    "        value = value.numpy()\n",
    "        \n",
    "    if _type=='label':\n",
    "        value = [value]   # Because Int64List accepts a list, but label is a scalar\n",
    "    elif _type=='review':\n",
    "        value = value.tolist()\n",
    "        \n",
    "    return tf.train.Feature(int64_list=tf.train.Int64List(value=value))\n",
    "\n",
    "def _serialize_example(review, label):\n",
    "    \n",
    "    feature = {\n",
    "        'review': _create_feature(review, _type='review'),\n",
    "        'label': _create_feature(label, _type='label')\n",
    "    }\n",
    "    \n",
    "    example_review = tf.train.Example(features=tf.train.Features(feature=feature))\n",
    "    return example_review.SerializeToString()\n",
    "\n",
    "def save_to_tfr(dataset, out_file='data/dataset_prepared.tfrecord'):\n",
    "    with tf.io.TFRecordWriter(out_file) as writer:\n",
    "        for batch in dataset:\n",
    "            reviews, labels = batch\n",
    "            for review, label in zip(reviews, labels):\n",
    "                serialized_example = _serialize_example(review.numpy(), label.numpy())\n",
    "                writer.write(serialized_example)"
   ]
  },
  {
   "cell_type": "code",
   "execution_count": 168,
   "metadata": {},
   "outputs": [
    {
     "name": "stderr",
     "output_type": "stream",
     "text": [
      "2024-07-24 21:31:14.474807: W tensorflow/core/framework/local_rendezvous.cc:404] Local rendezvous is aborting with status: OUT_OF_RANGE: End of sequence\n"
     ]
    }
   ],
   "source": [
    "save_to_tfr(dataset)"
   ]
  },
  {
   "cell_type": "markdown",
   "metadata": {},
   "source": [
    "The dataset has been saved and can be loaded as follows. Since after storing as TFR, all the in-memory transformations like shuffling and batching are lost, we need to re-apply those."
   ]
  },
  {
   "cell_type": "code",
   "execution_count": 3,
   "metadata": {},
   "outputs": [],
   "source": [
    "feature_description = {\n",
    "    'review': tf.io.FixedLenFeature([500], tf.int64),\n",
    "    'label': tf.io.FixedLenFeature([], tf.int64)\n",
    "}"
   ]
  },
  {
   "cell_type": "code",
   "execution_count": 4,
   "metadata": {},
   "outputs": [],
   "source": [
    "def prepare_dataset_from_tfr(filename, feature_description=feature_description, batch_size=16, shuffle_buffer_size=10000):\n",
    "    raw_dataset = tf.data.TFRecordDataset([filename])\n",
    "    \n",
    "    def _parse_examples(example_review):      # To parse examples\n",
    "        return tf.io.parse_single_example(example_review, feature_description)\n",
    "    \n",
    "    dataset = raw_dataset.map(_parse_examples)\n",
    "    dataset = dataset.map(lambda example_dict: (example_dict['review'], example_dict['label']))\n",
    "    dataset = dataset.shuffle(shuffle_buffer_size).batch(batch_size).prefetch(tf.data.AUTOTUNE)\n",
    "    return dataset"
   ]
  },
  {
   "cell_type": "code",
   "execution_count": 6,
   "metadata": {},
   "outputs": [
    {
     "name": "stdout",
     "output_type": "stream",
     "text": [
      "(<tf.Tensor: shape=(16, 500), dtype=int64, numpy=\n",
      "array([[8838,   98,   26, ...,    0,    0,    0],\n",
      "       [  41,  209,    2, ...,    0,    0,    0],\n",
      "       [  10,    7,   29, ...,    0,    0,    0],\n",
      "       ...,\n",
      "       [3065, 1652,   99, ...,    0,    0,    0],\n",
      "       [8735, 9327, 1022, ...,    0,    0,    0],\n",
      "       [4933, 2709,    5, ...,    0,    0,    0]])>, <tf.Tensor: shape=(16,), dtype=int64, numpy=array([0, 1, 0, 0, 0, 1, 1, 0, 1, 1, 1, 1, 1, 1, 1, 1])>)\n"
     ]
    },
    {
     "name": "stderr",
     "output_type": "stream",
     "text": [
      "2024-07-24 21:47:42.737563: W tensorflow/core/framework/local_rendezvous.cc:404] Local rendezvous is aborting with status: OUT_OF_RANGE: End of sequence\n"
     ]
    }
   ],
   "source": [
    "dataset = prepare_dataset_from_tfr('data/dataset_prepared.tfrecord')\n",
    "for i in dataset.take(1):\n",
    "    print(i)"
   ]
  },
  {
   "cell_type": "markdown",
   "metadata": {},
   "source": [
    "All the preprocessing steps have been done and the dataset is now ready to be trained on. We shall use 4 different models for this purpose:\n",
    "1. A simple Keras custom DNN with Batch Normalization, Dropout, and other advanced techniques as needed,\n",
    "2. A simple RNN,\n",
    "3. An LSTM or GRU, and\n",
    "4. Transfer Learning using GPT from HuggingFace Transformers using pretrained tokenizers and embeddings."
   ]
  },
  {
   "cell_type": "markdown",
   "metadata": {},
   "source": [
    "**1. Custom Deep Neural Network**"
   ]
  },
  {
   "cell_type": "code",
   "execution_count": 14,
   "metadata": {},
   "outputs": [],
   "source": [
    "BATCHES = 40000/32\n",
    "TRAIN_SIZE = int(BATCHES*0.8)\n",
    "train_dataset = dataset.take(TRAIN_SIZE)\n",
    "test_dataset = dataset.skip(TRAIN_SIZE)"
   ]
  },
  {
   "cell_type": "code",
   "execution_count": 24,
   "metadata": {},
   "outputs": [],
   "source": [
    "vocab_size = 20000  \n",
    "embedding_dim = 128  \n",
    "input_length = 500  \n",
    "\n",
    "model_1_dnn = keras.models.Sequential([\n",
    "    keras.layers.Embedding(input_dim=vocab_size, output_dim=embedding_dim, input_length=input_length),\n",
    "    keras.layers.Flatten(),\n",
    "    \n",
    "    keras.layers.Dense(128, activation='relu'),\n",
    "    keras.layers.BatchNormalization(),  \n",
    "    keras.layers.Dropout(0.1),          \n",
    "    \n",
    "    keras.layers.Dense(64, activation='relu'),\n",
    "    keras.layers.BatchNormalization(),  \n",
    "    keras.layers.Dropout(0.1),          \n",
    "    \n",
    "    keras.layers.Dense(1, activation='sigmoid')  \n",
    "])\n",
    "\n",
    "model_1_dnn.compile(optimizer='adam', loss='binary_crossentropy', metrics=['accuracy'])"
   ]
  },
  {
   "cell_type": "code",
   "execution_count": null,
   "metadata": {},
   "outputs": [],
   "source": [
    "model_1_dnn.fit(train_dataset, epochs=10, callbacks=[keras.callbacks.EarlyStopping(patience=3)])"
   ]
  },
  {
   "cell_type": "code",
   "execution_count": null,
   "metadata": {},
   "outputs": [],
   "source": [
    "loss, accuracy = model_1_dnn.evaluate(test_dataset)"
   ]
  },
  {
   "cell_type": "code",
   "execution_count": 34,
   "metadata": {},
   "outputs": [
    {
     "name": "stdout",
     "output_type": "stream",
     "text": [
      "Loss: 0.32168418169021606\n",
      "Accuracy: 0.906416654586792\n"
     ]
    }
   ],
   "source": [
    "print(f'Loss: {loss}\\nAccuracy: {accuracy}')"
   ]
  }
 ],
 "metadata": {
  "kernelspec": {
   "display_name": "small-projects-ml",
   "language": "python",
   "name": "python3"
  },
  "language_info": {
   "codemirror_mode": {
    "name": "ipython",
    "version": 3
   },
   "file_extension": ".py",
   "mimetype": "text/x-python",
   "name": "python",
   "nbconvert_exporter": "python",
   "pygments_lexer": "ipython3",
   "version": "3.12.3"
  }
 },
 "nbformat": 4,
 "nbformat_minor": 2
}
