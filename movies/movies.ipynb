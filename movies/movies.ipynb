{
 "cells": [
  {
   "cell_type": "code",
   "execution_count": 39,
   "metadata": {},
   "outputs": [],
   "source": [
    "'''\n",
    "The results may or may not be reproducible due to dataset shuffling operations,\n",
    "and also because my sole focus was on creating a visibly beautiful notebook, \n",
    "and training ONE good model for submission, for the sake of the assignment requirements.\n",
    "'''"
   ]
  },
  {
   "cell_type": "code",
   "execution_count": null,
   "metadata": {},
   "outputs": [],
   "source": [
    "import tensorflow as tf\n",
    "from tensorflow import keras\n",
    "import os\n",
    "import warnings\n",
    "from tensorflow.python.util import deprecation\n",
    "from transformers import GPT2Tokenizer, TFGPT2ForSequenceClassification"
   ]
  },
  {
   "cell_type": "code",
   "execution_count": 26,
   "metadata": {},
   "outputs": [],
   "source": [
    "tf.get_logger().setLevel('ERROR')\n",
    "os.environ['TF_CPP_MIN_LOG_LEVEL'] = '3'\n",
    "warnings.filterwarnings('ignore')\n",
    "warnings.filterwarnings('ignore', category=UserWarning, module='tensorflow')\n",
    "warnings.filterwarnings('ignore', category=UserWarning, module='tensorflow.core.framework.local_rendezvous')\n",
    "deprecation._PRINT_DEPRECATION_WARNINGS = False"
   ]
  },
  {
   "cell_type": "code",
   "execution_count": 3,
   "metadata": {},
   "outputs": [
    {
     "data": {
      "text/plain": [
       "[PhysicalDevice(name='/physical_device:CPU:0', device_type='CPU'),\n",
       " PhysicalDevice(name='/physical_device:GPU:0', device_type='GPU')]"
      ]
     },
     "execution_count": 3,
     "metadata": {},
     "output_type": "execute_result"
    }
   ],
   "source": [
    "tf.config.list_physical_devices()"
   ]
  },
  {
   "cell_type": "markdown",
   "metadata": {},
   "source": [
    "### Loading and Preprocessing Data for Custom Models\n",
    "\n",
    "The following functions read and preprocess the CSV data on file. The `parse_csv_line()` function works on each line and separates the review and the label while ensuring consistency. The `preprocess()` function also works on each element of the dataset iteratively and vectorizes the review text using an adapted vectorizer. In the `prepare_dataset()` function, we combine both of these functionalities, plus adapt our vectorizer on a subset of the data, and finally return a shuffled, batched, and prefetched dataset along with the adapted vectorizer. Lastly, we save both of these for later use. While the functions look clean and simple, a lot of experimentation went under the hoods which I have cleaned up."
   ]
  },
  {
   "cell_type": "code",
   "execution_count": 36,
   "metadata": {},
   "outputs": [],
   "source": [
    "def parse_csv_line(line):\n",
    "    parts = tf.strings.split(line, sep=',')\n",
    "    label = tf.strings.to_number(parts[-1], out_type=tf.int32)\n",
    "    review = tf.strings.reduce_join(parts[:-1], separator=',')\n",
    "    \n",
    "    return review, label\n",
    "\n",
    "# old\n",
    "def preprocess(text, label, vectorizer):\n",
    "    # text = tf.expand_dims(text, axis=-1)  # Add an extra dimension for the vectorizer\n",
    "    text = vectorizer(text)\n",
    "    return text, label"
   ]
  },
  {
   "cell_type": "code",
   "execution_count": 37,
   "metadata": {},
   "outputs": [
    {
     "name": "stderr",
     "output_type": "stream",
     "text": [
      "2024-07-27 11:30:46.792163: I tensorflow/core/framework/local_rendezvous.cc:423] Local rendezvous recv item cancelled. Key hash: 17785007208877762518\n",
      "2024-07-27 11:30:46.792195: I tensorflow/core/framework/local_rendezvous.cc:423] Local rendezvous recv item cancelled. Key hash: 13876514772406206864\n",
      "2024-07-27 11:30:46.792201: I tensorflow/core/framework/local_rendezvous.cc:423] Local rendezvous recv item cancelled. Key hash: 2339518255541905773\n",
      "2024-07-27 11:30:46.792204: I tensorflow/core/framework/local_rendezvous.cc:423] Local rendezvous recv item cancelled. Key hash: 7353395110688891975\n",
      "2024-07-27 11:30:46.792206: I tensorflow/core/framework/local_rendezvous.cc:423] Local rendezvous recv item cancelled. Key hash: 911380512253464011\n",
      "2024-07-27 11:30:46.792208: I tensorflow/core/framework/local_rendezvous.cc:423] Local rendezvous recv item cancelled. Key hash: 4827334378058113401\n",
      "2024-07-27 11:30:46.792211: I tensorflow/core/framework/local_rendezvous.cc:423] Local rendezvous recv item cancelled. Key hash: 5701048087266640416\n",
      "2024-07-27 11:30:46.792213: I tensorflow/core/framework/local_rendezvous.cc:423] Local rendezvous recv item cancelled. Key hash: 14117102775706157566\n",
      "2024-07-27 11:30:46.792225: I tensorflow/core/framework/local_rendezvous.cc:423] Local rendezvous recv item cancelled. Key hash: 17231017061853025886\n",
      "2024-07-27 11:30:46.792228: I tensorflow/core/framework/local_rendezvous.cc:423] Local rendezvous recv item cancelled. Key hash: 1667833391933982288\n"
     ]
    }
   ],
   "source": [
    "# Legacy\n",
    "def prepare_dataset_from_csv(filename, header=True, sample_size=5000, max_tokens=20000, output_sequence_length=500, batch_size=16):\n",
    "    \n",
    "    dataset = tf.data.TextLineDataset([filename], num_parallel_reads=tf.data.AUTOTUNE)\n",
    "        \n",
    "    # Skip header if present\n",
    "    if header:\n",
    "        dataset = dataset.skip(1)\n",
    "    \n",
    "    dataset = dataset.map(parse_csv_line, num_parallel_calls=tf.data.AUTOTUNE)\n",
    "    \n",
    "    # Create and adapt the TextVectorization layer\n",
    "    vectorizer = keras.layers.TextVectorization(max_tokens=max_tokens, output_sequence_length=output_sequence_length)\n",
    "    vectorizer.adapt(dataset.take(sample_size).map(lambda x, y: x))\n",
    "\n",
    "\n",
    "    # Preprocess text\n",
    "    dataset = dataset.map(lambda text, label: preprocess(text, label, vectorizer), num_parallel_calls=tf.data.AUTOTUNE)\n",
    "    dataset = dataset.shuffle(buffer_size=10000).batch(batch_size).prefetch(tf.data.AUTOTUNE)\n",
    "    \n",
    "    return dataset, vectorizer\n",
    "\n",
    "file_path = 'data/movie.csv'\n",
    "dataset, vectorizer = prepare_dataset_from_csv(file_path, output_sequence_length=512)"
   ]
  },
  {
   "cell_type": "code",
   "execution_count": 38,
   "metadata": {},
   "outputs": [
    {
     "name": "stdout",
     "output_type": "stream",
     "text": [
      "(16, 512) (16,)\n",
      "(16, 512) (16,)\n"
     ]
    }
   ],
   "source": [
    "for i in dataset.take(2).as_numpy_iterator():\n",
    "    print(i[0].shape, i[1].shape)"
   ]
  },
  {
   "cell_type": "markdown",
   "metadata": {},
   "source": [
    "#### Saving the Dataset\n",
    "I am saving the preprocessed dataset as a TFRecords file."
   ]
  },
  {
   "cell_type": "code",
   "execution_count": 167,
   "metadata": {},
   "outputs": [],
   "source": [
    "def _create_feature(value, _type):\n",
    "    if isinstance(value, type(tf.constant(0))):\n",
    "        value = value.numpy()\n",
    "        \n",
    "    if _type=='label':\n",
    "        value = [value]   # Because Int64List accepts a list, but label is a scalar\n",
    "    elif _type=='review':\n",
    "        value = value.tolist()\n",
    "        \n",
    "    return tf.train.Feature(int64_list=tf.train.Int64List(value=value))\n",
    "\n",
    "def _serialize_example(review, label):\n",
    "    \n",
    "    feature = {\n",
    "        'review': _create_feature(review, _type='review'),\n",
    "        'label': _create_feature(label, _type='label')\n",
    "    }\n",
    "    \n",
    "    example_review = tf.train.Example(features=tf.train.Features(feature=feature))\n",
    "    return example_review.SerializeToString()\n",
    "\n",
    "def save_to_tfr(dataset, out_file='data/dataset_prepared.tfrecord'):\n",
    "    with tf.io.TFRecordWriter(out_file) as writer:\n",
    "        for batch in dataset:\n",
    "            reviews, labels = batch\n",
    "            for review, label in zip(reviews, labels):\n",
    "                serialized_example = _serialize_example(review.numpy(), label.numpy())\n",
    "                writer.write(serialized_example)"
   ]
  },
  {
   "cell_type": "code",
   "execution_count": 168,
   "metadata": {},
   "outputs": [
    {
     "name": "stderr",
     "output_type": "stream",
     "text": [
      "2024-07-24 21:31:14.474807: W tensorflow/core/framework/local_rendezvous.cc:404] Local rendezvous is aborting with status: OUT_OF_RANGE: End of sequence\n"
     ]
    }
   ],
   "source": [
    "save_to_tfr(dataset)"
   ]
  },
  {
   "cell_type": "markdown",
   "metadata": {},
   "source": [
    "The dataset has been saved and can be loaded as follows. Since after storing as TFR, all the in-memory transformations like shuffling and batching are lost, we need to re-apply those."
   ]
  },
  {
   "cell_type": "code",
   "execution_count": 3,
   "metadata": {},
   "outputs": [],
   "source": [
    "feature_description = {\n",
    "    'review': tf.io.FixedLenFeature([500], tf.int64),\n",
    "    'label': tf.io.FixedLenFeature([], tf.int64)\n",
    "}"
   ]
  },
  {
   "cell_type": "code",
   "execution_count": 4,
   "metadata": {},
   "outputs": [],
   "source": [
    "def prepare_dataset_from_tfr(filename, feature_description=feature_description, batch_size=16, shuffle_buffer_size=10000):\n",
    "    raw_dataset = tf.data.TFRecordDataset([filename])\n",
    "    \n",
    "    def _parse_examples(example_review):      # To parse examples\n",
    "        return tf.io.parse_single_example(example_review, feature_description)\n",
    "    \n",
    "    dataset = raw_dataset.map(_parse_examples)\n",
    "    dataset = dataset.map(lambda example_dict: (example_dict['review'], example_dict['label']))\n",
    "    dataset = dataset.shuffle(shuffle_buffer_size).batch(batch_size).prefetch(tf.data.AUTOTUNE)\n",
    "    return dataset"
   ]
  },
  {
   "cell_type": "code",
   "execution_count": 6,
   "metadata": {},
   "outputs": [
    {
     "name": "stdout",
     "output_type": "stream",
     "text": [
      "(<tf.Tensor: shape=(16, 500), dtype=int64, numpy=\n",
      "array([[  11,   62,   77, ...,    0,    0,    0],\n",
      "       [   8,   32,   55, ...,  179,  393,   65],\n",
      "       [ 102,    3,  552, ...,    0,    0,    0],\n",
      "       ...,\n",
      "       [   1,   98,  222, ...,    0,    0,    0],\n",
      "       [ 212,    9,  648, ..., 2954,  253,   22],\n",
      "       [  30,    2,  118, ...,    0,    0,    0]])>, <tf.Tensor: shape=(16,), dtype=int64, numpy=array([0, 0, 1, 0, 0, 0, 1, 1, 0, 1, 0, 0, 1, 0, 0, 1])>)\n"
     ]
    },
    {
     "name": "stderr",
     "output_type": "stream",
     "text": [
      "2024-07-27 08:30:50.773638: I tensorflow/core/framework/local_rendezvous.cc:404] Local rendezvous is aborting with status: OUT_OF_RANGE: End of sequence\n"
     ]
    }
   ],
   "source": [
    "dataset = prepare_dataset_from_tfr('data/dataset_prepared.tfrecord')\n",
    "for i in dataset.take(1):\n",
    "    print(i)"
   ]
  },
  {
   "cell_type": "markdown",
   "metadata": {},
   "source": [
    "### Model Training\n",
    "All the preprocessing steps have been done and the dataset is now ready to be trained on. We shall use 4 different models for this purpose:\n",
    "1. A simple Keras custom DNN with Batch Normalization, Dropout, and other advanced techniques as needed,\n",
    "2. A simple RNN,\n",
    "3. An LSTM or GRU, and\n",
    "4. Transfer Learning using a HuggingFace Transformers with pretrained tokenizers and embeddings."
   ]
  },
  {
   "cell_type": "markdown",
   "metadata": {},
   "source": [
    "**1. Custom Deep Neural Network**"
   ]
  },
  {
   "cell_type": "code",
   "execution_count": 35,
   "metadata": {},
   "outputs": [],
   "source": [
    "BATCHES = 40000 // 16  \n",
    "TRAIN_SIZE = int(BATCHES * 0.8)\n",
    "VAL_SIZE = int(BATCHES * 0.1)\n",
    "\n",
    "train_dataset = dataset.take(TRAIN_SIZE)\n",
    "val_dataset = dataset.skip(TRAIN_SIZE).take(VAL_SIZE)\n",
    "test_dataset = dataset.skip(TRAIN_SIZE + VAL_SIZE)\n"
   ]
  },
  {
   "cell_type": "code",
   "execution_count": 21,
   "metadata": {},
   "outputs": [
    {
     "name": "stdout",
     "output_type": "stream",
     "text": [
      "(16, 500) (16,)\n"
     ]
    }
   ],
   "source": [
    "for i in train_dataset.take(1):\n",
    "    print(i[0].shape, i[1].shape)"
   ]
  },
  {
   "cell_type": "code",
   "execution_count": 23,
   "metadata": {},
   "outputs": [],
   "source": [
    "vocab_size = 20000  \n",
    "embedding_dim = 128  \n",
    "input_length = 500  \n",
    "\n",
    "model_1_dnn = keras.models.Sequential([\n",
    "    keras.layers.Embedding(input_dim=vocab_size, output_dim=embedding_dim, input_length=input_length),\n",
    "    keras.layers.Flatten(),\n",
    "    \n",
    "    keras.layers.Dense(128, activation='relu'),\n",
    "    keras.layers.BatchNormalization(),  \n",
    "    keras.layers.Dropout(0.1),          \n",
    "    \n",
    "    keras.layers.Dense(64, activation='relu'),\n",
    "    keras.layers.BatchNormalization(),  \n",
    "    keras.layers.Dropout(0.1),          \n",
    "    \n",
    "    keras.layers.Dense(1, activation='sigmoid')  \n",
    "])\n",
    "\n",
    "model_1_dnn.compile(optimizer='adam', loss='binary_crossentropy', metrics=['accuracy'])"
   ]
  },
  {
   "cell_type": "code",
   "execution_count": null,
   "metadata": {},
   "outputs": [],
   "source": [
    "model_1_dnn.fit(train_dataset, validation_data=val_dataset, epochs=10, callbacks=[keras.callbacks.EarlyStopping(patience=3)])"
   ]
  },
  {
   "cell_type": "code",
   "execution_count": null,
   "metadata": {},
   "outputs": [],
   "source": [
    "loss, accuracy = model_1_dnn.evaluate(test_dataset)"
   ]
  },
  {
   "cell_type": "code",
   "execution_count": 34,
   "metadata": {},
   "outputs": [
    {
     "name": "stdout",
     "output_type": "stream",
     "text": [
      "Loss: 0.32168418169021606\n",
      "Accuracy: 0.906416654586792\n"
     ]
    }
   ],
   "source": [
    "print(f'Loss: {loss}\\nAccuracy: {accuracy}')"
   ]
  },
  {
   "cell_type": "code",
   "execution_count": 37,
   "metadata": {},
   "outputs": [],
   "source": [
    "model_1_dnn.save('saved_models/model_1_dnn.keras')"
   ]
  },
  {
   "cell_type": "markdown",
   "metadata": {},
   "source": [
    "**2. A Simple Recurrent Neural Network**"
   ]
  },
  {
   "cell_type": "code",
   "execution_count": null,
   "metadata": {},
   "outputs": [],
   "source": [
    "model_2_rnn = keras.models.Sequential([\n",
    "    keras.layers.Embedding(input_dim=vocab_size, output_dim=embedding_dim, input_length=input_length),\n",
    "    \n",
    "    keras.layers.SimpleRNN(128, return_sequences=True), \n",
    "    keras.layers.BatchNormalization(),\n",
    "    keras.layers.Dropout(0.1),\n",
    "    \n",
    "    keras.layers.SimpleRNN(64),\n",
    "    keras.layers.BatchNormalization(),\n",
    "    keras.layers.Dropout(0.1),\n",
    "    \n",
    "    keras.layers.Dense(1, activation='sigmoid')\n",
    "])\n",
    "\n",
    "model_2_rnn.compile(optimizer='adam', loss='binary_crossentropy', metrics=['accuracy'])"
   ]
  },
  {
   "cell_type": "code",
   "execution_count": null,
   "metadata": {},
   "outputs": [],
   "source": [
    "# Run with caution if using a CPU, took 10+ min on my 4070Ti for some reason\n",
    "model_2_rnn.fit(train_dataset, validation_data=val_dataset, epochs=10, callbacks=[keras.callbacks.EarlyStopping(patience=3)])"
   ]
  },
  {
   "cell_type": "code",
   "execution_count": null,
   "metadata": {},
   "outputs": [],
   "source": [
    "loss_rnn, accuracy_rnn = model_2_rnn.evaluate(test_dataset)"
   ]
  },
  {
   "cell_type": "code",
   "execution_count": 38,
   "metadata": {},
   "outputs": [
    {
     "name": "stdout",
     "output_type": "stream",
     "text": [
      "RNN Loss: 0.10939233333333\n",
      "RNN Accuracy: 0.94426852180481\n"
     ]
    }
   ],
   "source": [
    "print(f'RNN Loss: {loss_rnn}\\nRNN Accuracy: {accuracy_rnn}')"
   ]
  },
  {
   "cell_type": "markdown",
   "metadata": {},
   "source": [
    "**3. An RNN with Gated Recurrent Units**"
   ]
  },
  {
   "cell_type": "code",
   "execution_count": null,
   "metadata": {},
   "outputs": [],
   "source": [
    "model_3_gru = keras.models.Sequential(\n",
    "    [\n",
    "    keras.layers.Embedding(input_dim=vocab_size, output_dim=embedding_dim, input_length=input_length),\n",
    "    \n",
    "    keras.layers.GRU(128, return_sequences=True),\n",
    "    keras.layers.BatchNormalization(),\n",
    "    keras.layers.Dropout(0.2),\n",
    "    \n",
    "    keras.layers.GRU(64),\n",
    "    keras.layers.BatchNormalization(),\n",
    "    keras.layers.Dropout(0.2),\n",
    "    \n",
    "    keras.layers.Dense(1, activation='sigmoid') \n",
    "    ]\n",
    ")\n",
    "\n",
    "model_3_gru.compile(optimizer='adam', loss='binary_crossentropy', metrics=['accuracy'])"
   ]
  },
  {
   "cell_type": "code",
   "execution_count": 41,
   "metadata": {},
   "outputs": [],
   "source": [
    "model_3_gru = keras.models.load_model('saved_models/model_3_gru.keras')"
   ]
  },
  {
   "cell_type": "code",
   "execution_count": null,
   "metadata": {},
   "outputs": [],
   "source": [
    "model_3_gru.fit(train_dataset, epochs=4, validation_data=val_dataset, callbacks=[keras.callbacks.EarlyStopping(patience=2)])"
   ]
  },
  {
   "cell_type": "code",
   "execution_count": null,
   "metadata": {},
   "outputs": [],
   "source": [
    "loss_gru, accuracy_gru = model_3_gru.evaluate(test_dataset)"
   ]
  },
  {
   "cell_type": "code",
   "execution_count": 44,
   "metadata": {},
   "outputs": [
    {
     "name": "stdout",
     "output_type": "stream",
     "text": [
      "GRU Loss: 0.02748866192996502\n",
      "GRU Accuracy: 0.9950000047683716\n"
     ]
    }
   ],
   "source": [
    "print(f'GRU Loss: {loss_gru}\\nGRU Accuracy: {accuracy_gru}')"
   ]
  },
  {
   "cell_type": "markdown",
   "metadata": {},
   "source": [
    "**Transfer Learning using GPT**"
   ]
  },
  {
   "cell_type": "code",
   "execution_count": null,
   "metadata": {},
   "outputs": [],
   "source": [
    "from transformers import GPT2Tokenizer, TFGPT2ForSequenceClassification\n",
    "\n",
    "tokenizer = GPT2Tokenizer.from_pretrained('gpt2')\n",
    "model = TFGPT2ForSequenceClassification.from_pretrained('gpt2')\n",
    "\n",
    "if tokenizer.pad_token is None:\n",
    "    tokenizer.add_special_tokens({'pad_token': '[PAD]'})"
   ]
  }
 ],
 "metadata": {
  "kernelspec": {
   "display_name": "small-projects-ml",
   "language": "python",
   "name": "python3"
  },
  "language_info": {
   "codemirror_mode": {
    "name": "ipython",
    "version": 3
   },
   "file_extension": ".py",
   "mimetype": "text/x-python",
   "name": "python",
   "nbconvert_exporter": "python",
   "pygments_lexer": "ipython3",
   "version": "3.12.3"
  }
 },
 "nbformat": 4,
 "nbformat_minor": 2
}
