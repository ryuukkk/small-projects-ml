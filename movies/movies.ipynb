{
 "cells": [
  {
   "cell_type": "code",
   "execution_count": null,
   "metadata": {},
   "outputs": [],
   "source": [
    "import tensorflow as tf\n",
    "from tensorflow import keras"
   ]
  },
  {
   "cell_type": "code",
   "execution_count": 5,
   "metadata": {},
   "outputs": [
    {
     "data": {
      "text/plain": [
       "[PhysicalDevice(name='/physical_device:CPU:0', device_type='CPU'),\n",
       " PhysicalDevice(name='/physical_device:GPU:0', device_type='GPU')]"
      ]
     },
     "execution_count": 5,
     "metadata": {},
     "output_type": "execute_result"
    }
   ],
   "source": [
    "tf.config.list_physical_devices()"
   ]
  },
  {
   "cell_type": "markdown",
   "metadata": {},
   "source": [
    "### Loading and Preprocessing Data for Custom Models\n",
    "\n",
    "The following functions read and preprocess the CSV data on file. The `parse_csv_line()` function works on each line and separates the review and the label while ensuring consistency. The `preprocess()` function also works on each element of the dataset iteratively and vectorizes the review text using an adapted vectorizer. In the `prepare_dataset()` function, we combine both of these functionalities, plus adapt our vectorizer on a subset of the data, and finally return a shuffled, batched, and prefetched dataset along with the adapted vectorizer. Lastly, we save both of these for later use. While the functions look clean and simple, a lot of experimentation went behind the hoods which I have cleaned up."
   ]
  },
  {
   "cell_type": "code",
   "execution_count": null,
   "metadata": {},
   "outputs": [],
   "source": [
    "def parse_csv_line(line):\n",
    "    parts = tf.strings.split(line, sep=',')\n",
    "    label = tf.strings.to_number(parts[-1], out_type=tf.int32)\n",
    "    review = tf.strings.reduce_join(parts[:-1], separator=',')\n",
    "    return review, label\n",
    "\n",
    "def preprocess(text, label, vectorizer):\n",
    "    text = tf.expand_dims(text, axis=-1)  # Add an extra dimension for the vectorizer\n",
    "    text = vectorizer(text)\n",
    "    return text, label"
   ]
  },
  {
   "cell_type": "code",
   "execution_count": 83,
   "metadata": {},
   "outputs": [],
   "source": [
    "def prepare_dataset(filename, header=True, max_tokens=20000, output_sequence_length=160, batch_size=32):\n",
    "    dataset = tf.data.TextLineDataset([filename], num_parallel_reads=tf.data.AUTOTUNE)\n",
    "    \n",
    "    # Skip header if present\n",
    "    if header:\n",
    "        dataset = dataset.skip(1)\n",
    "    \n",
    "    dataset = dataset.map(parse_csv_line, num_parallel_calls=tf.data.AUTOTUNE)\n",
    "    \n",
    "    # Create and adapt the TextVectorization layer\n",
    "    vectorizer = keras.layers.TextVectorization(max_tokens=max_tokens, output_sequence_length=output_sequence_length)\n",
    "    vectorizer.adapt(dataset.take(100).map(lambda x, y: x))\n",
    "\n",
    "    # Preprocess text\n",
    "    dataset = dataset.map(lambda text, label: preprocess(text, label, vectorizer), num_parallel_calls=tf.data.AUTOTUNE)\n",
    "    dataset = dataset.shuffle(buffer_size=10000).batch(batch_size).prefetch(tf.data.AUTOTUNE)\n",
    "    \n",
    "    return dataset, vectorizer"
   ]
  },
  {
   "cell_type": "code",
   "execution_count": null,
   "metadata": {},
   "outputs": [],
   "source": [
    "file_path = 'data/movie.csv'\n",
    "dataset, vectorizer = prepare_dataset(file_path)"
   ]
  },
  {
   "cell_type": "markdown",
   "metadata": {},
   "source": [
    "#### Saving the Dataset and the Vectorizer\n",
    "I am saving the preprocessed dataset as a TFRecords file, and the vectorizer using the `save()` method directly."
   ]
  },
  {
   "cell_type": "markdown",
   "metadata": {},
   "source": [
    "def "
   ]
  }
 ],
 "metadata": {
  "kernelspec": {
   "display_name": "small-projects-ml",
   "language": "python",
   "name": "python3"
  },
  "language_info": {
   "codemirror_mode": {
    "name": "ipython",
    "version": 3
   },
   "file_extension": ".py",
   "mimetype": "text/x-python",
   "name": "python",
   "nbconvert_exporter": "python",
   "pygments_lexer": "ipython3",
   "version": "3.12.3"
  }
 },
 "nbformat": 4,
 "nbformat_minor": 2
}
