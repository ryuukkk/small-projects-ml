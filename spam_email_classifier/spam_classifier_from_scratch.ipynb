{
 "cells": [
  {
   "cell_type": "code",
   "execution_count": 25,
   "id": "initial_id",
   "metadata": {
    "collapsed": true,
    "ExecuteTime": {
     "end_time": "2023-08-06T17:15:23.595362900Z",
     "start_time": "2023-08-06T17:15:23.560365600Z"
    }
   },
   "outputs": [],
   "source": [
    "import pandas as pd\n",
    "import numpy as np\n",
    "import matplotlib.pyplot as plt\n",
    "import matplotlib as mpl\n",
    "import pickle\n",
    "import joblib\n",
    "import copy\n",
    "import os\n",
    "from collections import Counter\n",
    "import urllib.request\n",
    "import tarfile\n",
    "import email.parser\n",
    "import email.policy\n",
    "from bs4 import BeautifulSoup\n",
    "from html import unescape\n",
    "from sklearn import preprocessing, model_selection, base, metrics, linear_model, pipeline, ensemble, svm, multiclass, neighbors\n",
    "from scipy.sparse import csr_matrix"
   ]
  },
  {
   "cell_type": "code",
   "execution_count": 3,
   "outputs": [],
   "source": [
    "DOWNLOAD_ROOT = \"http://spamassassin.apache.org/old/publiccorpus/\"\n",
    "HAM_URL = DOWNLOAD_ROOT + \"20030228_easy_ham.tar.bz2\"\n",
    "SPAM_URL = DOWNLOAD_ROOT + \"20030228_spam.tar.bz2\"\n",
    "SPAM_PATH = os.path.join('data')\n",
    "\n",
    "\n",
    "def fetch_spam_data(ham_url=HAM_URL, spam_url=SPAM_URL, spam_path=SPAM_PATH):\n",
    "    if not os.path.isdir(spam_path):\n",
    "        os.makedirs(spam_path)\n",
    "    for filename, url in ((\"ham.tar.bz2\", ham_url), (\"spam.tar.bz2\", spam_url)):\n",
    "        path = os.path.join(spam_path, filename)\n",
    "        if not os.path.isfile(path):\n",
    "            urllib.request.urlretrieve(url, path)\n",
    "        tar_bz2_file = tarfile.open(path)\n",
    "        tar_bz2_file.extractall(path=spam_path)\n",
    "        tar_bz2_file.close()\n",
    "\n",
    "\n",
    "fetch_spam_data()"
   ],
   "metadata": {
    "collapsed": false,
    "ExecuteTime": {
     "end_time": "2023-08-06T16:53:37.292616Z",
     "start_time": "2023-08-06T16:53:37.211523500Z"
    }
   },
   "id": "5ffa38c5cdb64d09"
  },
  {
   "cell_type": "code",
   "execution_count": 4,
   "outputs": [],
   "source": [
    "ham_files = [file for file in os.listdir(os.path.join(SPAM_PATH, 'easy_ham'))]\n",
    "spam_files = [file for file in os.listdir(os.path.join(SPAM_PATH, 'spam'))]"
   ],
   "metadata": {
    "collapsed": false,
    "ExecuteTime": {
     "end_time": "2023-08-06T16:53:45.152805600Z",
     "start_time": "2023-08-06T16:53:45.015227400Z"
    }
   },
   "id": "4a4ba5ec32a70747"
  },
  {
   "cell_type": "code",
   "execution_count": 5,
   "outputs": [
    {
     "data": {
      "text/plain": "(2501, 501)"
     },
     "execution_count": 5,
     "metadata": {},
     "output_type": "execute_result"
    }
   ],
   "source": [
    "len(ham_files), len(spam_files)"
   ],
   "metadata": {
    "collapsed": false,
    "ExecuteTime": {
     "end_time": "2023-08-06T16:53:46.436880900Z",
     "start_time": "2023-08-06T16:53:46.267386900Z"
    }
   },
   "id": "220adf621b97aea4"
  },
  {
   "cell_type": "code",
   "execution_count": 6,
   "outputs": [],
   "source": [
    "def load_email(filename, is_spam=False):\n",
    "    dir = os.path.join(SPAM_PATH, 'easy_ham') if not is_spam else os.path.join(SPAM_PATH, 'spam')\n",
    "    with open(os.path.join(dir, filename), 'rb') as f:\n",
    "        return email.parser.BytesParser(policy=email.policy.default).parse(f)"
   ],
   "metadata": {
    "collapsed": false,
    "ExecuteTime": {
     "end_time": "2023-08-06T16:53:50.312137100Z",
     "start_time": "2023-08-06T16:53:50.241041Z"
    }
   },
   "id": "d1f9bb224d6a9fc9"
  },
  {
   "cell_type": "code",
   "execution_count": 7,
   "outputs": [],
   "source": [
    "ham_emails = [load_email(file, is_spam=False) for file in ham_files]\n",
    "spam_emails = [load_email(file, is_spam=True) for file in spam_files]"
   ],
   "metadata": {
    "collapsed": false,
    "ExecuteTime": {
     "end_time": "2023-08-06T16:53:57.690716200Z",
     "start_time": "2023-08-06T16:53:50.425182700Z"
    }
   },
   "id": "e627f5cfe8016ae8"
  },
  {
   "cell_type": "code",
   "execution_count": 8,
   "outputs": [
    {
     "data": {
      "text/plain": "(501, 2501)"
     },
     "execution_count": 8,
     "metadata": {},
     "output_type": "execute_result"
    }
   ],
   "source": [
    "len(spam_emails), len(ham_emails)"
   ],
   "metadata": {
    "collapsed": false,
    "ExecuteTime": {
     "end_time": "2023-08-06T16:53:57.728460200Z",
     "start_time": "2023-08-06T16:53:57.691882Z"
    }
   },
   "id": "af46fbdba04f7dbc"
  },
  {
   "cell_type": "code",
   "execution_count": 9,
   "outputs": [
    {
     "name": "stdout",
     "output_type": "stream",
     "text": [
      "Date:        Wed, 21 Aug 2002 10:54:46 -0500\n",
      "    From:        Chris Garrigues <cwg-dated-1030377287.06fa6d@DeepEddy.Com>\n",
      "    Message-ID:  <1029945287.4797.TMDA@deepeddy.vircio.com>\n",
      "\n",
      "\n",
      "  | I can't reproduce this error.\n",
      "\n",
      "For me it is very repeatable... (like every time, without fail).\n",
      "\n",
      "This is the debug log of the pick happening ...\n",
      "\n",
      "18:19:03 Pick_It {exec pick +inbox -list -lbrace -lbrace -subject ftp -rbrace -rbrace} {4852-4852 -sequence mercury}\n",
      "18:19:03 exec pick +inbox -list -lbrace -lbrace -subject ftp -rbrace -rbrace 4852-4852 -sequence mercury\n",
      "18:19:04 Ftoc_PickMsgs {{1 hit}}\n",
      "18:19:04 Marking 1 hits\n",
      "18:19:04 tkerror: syntax error in expression \"int ...\n",
      "\n",
      "Note, if I run the pick command by hand ...\n",
      "\n",
      "delta$ pick +inbox -list -lbrace -lbrace -subject ftp -rbrace -rbrace  4852-4852 -sequence mercury\n",
      "1 hit\n",
      "\n",
      "That's where the \"1 hit\" comes from (obviously).  The version of nmh I'm\n",
      "using is ...\n",
      "\n",
      "delta$ pick -version\n",
      "pick -- nmh-1.0.4 [compiled on fuchsia.cs.mu.OZ.AU at Sun Mar 17 14:55:56 ICT 2002]\n",
      "\n",
      "And the relevant part of my .mh_profile ...\n",
      "\n",
      "delta$ mhparam pick\n",
      "-seq sel -list\n",
      "\n",
      "\n",
      "Since the pick command works, the sequence (actually, both of them, the\n",
      "one that's explicit on the command line, from the search popup, and the\n",
      "one that comes from .mh_profile) do get created.\n",
      "\n",
      "kre\n",
      "\n",
      "ps: this is still using the version of the code form a day ago, I haven't\n",
      "been able to reach the cvs repository today (local routing issue I think).\n",
      "\n",
      "\n",
      "\n",
      "_______________________________________________\n",
      "Exmh-workers mailing list\n",
      "Exmh-workers@redhat.com\n",
      "https://listman.redhat.com/mailman/listinfo/exmh-workers\n"
     ]
    }
   ],
   "source": [
    "print(ham_emails[0].get_content().strip())"
   ],
   "metadata": {
    "collapsed": false,
    "ExecuteTime": {
     "end_time": "2023-08-06T16:54:00.510903200Z",
     "start_time": "2023-08-06T16:54:00.457370800Z"
    }
   },
   "id": "63577f1897b5e7cc"
  },
  {
   "cell_type": "code",
   "execution_count": 10,
   "outputs": [
    {
     "data": {
      "text/plain": "email.message.EmailMessage"
     },
     "execution_count": 10,
     "metadata": {},
     "output_type": "execute_result"
    }
   ],
   "source": [
    "type(ham_emails[0])"
   ],
   "metadata": {
    "collapsed": false,
    "ExecuteTime": {
     "end_time": "2023-08-06T16:54:01.954294600Z",
     "start_time": "2023-08-06T16:54:01.883284900Z"
    }
   },
   "id": "689052d5eb857989"
  },
  {
   "cell_type": "code",
   "execution_count": 11,
   "outputs": [],
   "source": [
    "def get_email_structure(email):\n",
    "    if isinstance(email, str):\n",
    "        return email\n",
    "    payload = email.get_payload()\n",
    "    if isinstance(payload, list):\n",
    "        return \"multipart({})\".format(\", \".join([\n",
    "            get_email_structure(sub_email)\n",
    "            for sub_email in payload\n",
    "        ]))\n",
    "    else:\n",
    "        return email.get_content_type()\n",
    "\n",
    "def structures_counter(emails):\n",
    "    structures = Counter()\n",
    "    for email in emails:\n",
    "        structure = get_email_structure(email)\n",
    "        structures[structure] += 1\n",
    "    return structures"
   ],
   "metadata": {
    "collapsed": false,
    "ExecuteTime": {
     "end_time": "2023-08-06T16:54:06.632014700Z",
     "start_time": "2023-08-06T16:54:06.546457700Z"
    }
   },
   "id": "a1d22e9eeb9a5596"
  },
  {
   "cell_type": "code",
   "execution_count": 12,
   "outputs": [
    {
     "data": {
      "text/plain": "Counter({'text/plain': 2409,\n         'multipart(text/plain, application/pgp-signature)': 66,\n         'multipart(text/plain, text/html)': 8,\n         'multipart(text/plain, text/plain)': 4,\n         'multipart(text/plain)': 3,\n         'multipart(text/plain, application/octet-stream)': 2,\n         'multipart(text/plain, text/enriched)': 1,\n         'multipart(text/plain, application/ms-tnef, text/plain)': 1,\n         'multipart(multipart(text/plain, text/plain, text/plain), application/pgp-signature)': 1,\n         'multipart(text/plain, video/mng)': 1,\n         'multipart(text/plain, multipart(text/plain))': 1,\n         'multipart(text/plain, application/x-pkcs7-signature)': 1,\n         'multipart(text/plain, multipart(text/plain, text/plain), text/rfc822-headers)': 1,\n         'multipart(text/plain, multipart(text/plain, text/plain), multipart(multipart(text/plain, application/x-pkcs7-signature)))': 1,\n         'multipart(text/plain, application/x-java-applet)': 1})"
     },
     "execution_count": 12,
     "metadata": {},
     "output_type": "execute_result"
    }
   ],
   "source": [
    "structures_counter(ham_emails)"
   ],
   "metadata": {
    "collapsed": false,
    "ExecuteTime": {
     "end_time": "2023-08-06T16:54:07.352538Z",
     "start_time": "2023-08-06T16:54:06.774473200Z"
    }
   },
   "id": "e98ecb8fe533e476"
  },
  {
   "cell_type": "code",
   "execution_count": 13,
   "outputs": [
    {
     "data": {
      "text/plain": "Counter({'text/plain': 219,\n         'text/html': 183,\n         'multipart(text/plain, text/html)': 45,\n         'multipart(text/html)': 20,\n         'multipart(text/plain)': 19,\n         'multipart(multipart(text/html))': 5,\n         'multipart(text/plain, image/jpeg)': 3,\n         'multipart(text/html, application/octet-stream)': 2,\n         'multipart(text/plain, application/octet-stream)': 1,\n         'multipart(text/html, text/plain)': 1,\n         'multipart(multipart(text/html), application/octet-stream, image/jpeg)': 1,\n         'multipart(multipart(text/plain, text/html), image/gif)': 1,\n         'multipart/alternative': 1})"
     },
     "execution_count": 13,
     "metadata": {},
     "output_type": "execute_result"
    }
   ],
   "source": [
    "structures_counter(spam_emails)"
   ],
   "metadata": {
    "collapsed": false,
    "ExecuteTime": {
     "end_time": "2023-08-06T16:54:07.531225700Z",
     "start_time": "2023-08-06T16:54:07.328051600Z"
    }
   },
   "id": "8e33d1e80652dc95"
  },
  {
   "cell_type": "code",
   "execution_count": 34,
   "outputs": [],
   "source": [
    "# creating dataset\n",
    "X = np.array(ham_emails+spam_emails, dtype=object)\n",
    "y = np.array([0 for i in range(len(ham_emails))]+[1 for i in range(len(spam_emails))])"
   ],
   "metadata": {
    "collapsed": false,
    "ExecuteTime": {
     "end_time": "2023-08-06T17:27:13.327586900Z",
     "start_time": "2023-08-06T17:27:13.298578800Z"
    }
   },
   "id": "155931fe7fb79e92"
  },
  {
   "cell_type": "code",
   "execution_count": 15,
   "outputs": [],
   "source": [
    "# shuffling the set\n",
    "np.random.seed(42)\n",
    "full = np.c_[X, y]\n",
    "np.random.shuffle(full)"
   ],
   "metadata": {
    "collapsed": false,
    "ExecuteTime": {
     "end_time": "2023-08-06T16:54:12.411147Z",
     "start_time": "2023-08-06T16:54:12.322767400Z"
    }
   },
   "id": "30f1e89f5d327b8e"
  },
  {
   "cell_type": "code",
   "execution_count": 16,
   "outputs": [],
   "source": [
    "X, y = full[:, 0], full[:, 1]"
   ],
   "metadata": {
    "collapsed": false,
    "ExecuteTime": {
     "end_time": "2023-08-06T16:54:13.978213700Z",
     "start_time": "2023-08-06T16:54:13.932173500Z"
    }
   },
   "id": "cbd46ef8179761bd"
  },
  {
   "cell_type": "code",
   "execution_count": 18,
   "outputs": [
    {
     "data": {
      "text/plain": "['data/y.pkl']"
     },
     "execution_count": 18,
     "metadata": {},
     "output_type": "execute_result"
    }
   ],
   "source": [
    "joblib.dump(X, 'data/X.pkl')\n",
    "joblib.dump(y, 'data/y.pkl')"
   ],
   "metadata": {
    "collapsed": false,
    "ExecuteTime": {
     "end_time": "2023-08-06T16:57:03.993992900Z",
     "start_time": "2023-08-06T16:57:03.888037Z"
    }
   },
   "id": "e54b98bb0bcea7dd"
  },
  {
   "cell_type": "code",
   "execution_count": 19,
   "outputs": [],
   "source": [
    "X_train, X_test, y_train, y_test = model_selection.train_test_split(X, y ,test_size=0.2, random_state=42)"
   ],
   "metadata": {
    "collapsed": false,
    "ExecuteTime": {
     "end_time": "2023-08-06T16:57:11.460967200Z",
     "start_time": "2023-08-06T16:57:11.421919Z"
    }
   },
   "id": "70855b33b8fb49fe"
  },
  {
   "cell_type": "code",
   "execution_count": null,
   "outputs": [],
   "source": [
    "ord = preprocessing.OrdinalEncoder()\n",
    "y_train = ord.fit_transform(y_train.reshape(-1,1))\n",
    "y_test = ord.fit_transform(y_test.reshape(-1,1))"
   ],
   "metadata": {
    "collapsed": false
   },
   "id": "27cdce55697eabd4"
  },
  {
   "cell_type": "code",
   "execution_count": 20,
   "outputs": [
    {
     "data": {
      "text/plain": "'<HTML><HEAD>\\n<META http-equiv=Content-Type content=\"text/html; charset=iso-8859-1\">\\n</HEAD><BODY><CENTER>\\n<A href=\"http://reallymarket.com/user0201/index.asp?Afft=QM99\"> \\n<IMG src=\"http://61.129.68.17/mortad2.gif\" border=0></A>\\n<BR><BR><FONT face=Arial,Helvetica color=#000000 size=1>\\nCopyright 2002 - All rights reserved<BR><BR>If you would no longer like us \\nto contact you or feel that you have<BR>received this email in error, \\nplease <A href=\"http://reallymarket.com/light/watch.asp\">click here \\nto unsubscribe</A>.</FONT></CENTER></BODY></HTML>\\n\\n\\n\\n\\n'"
     },
     "execution_count": 20,
     "metadata": {},
     "output_type": "execute_result"
    }
   ],
   "source": [
    "html_type_emails = [em for em in X_train if em.get_content_type()=='text/html']\n",
    "html_type_emails[0].get_content()"
   ],
   "metadata": {
    "collapsed": false,
    "ExecuteTime": {
     "end_time": "2023-08-06T16:57:11.878713600Z",
     "start_time": "2023-08-06T16:57:11.601069800Z"
    }
   },
   "id": "ef2e0b4e10fbcbc5"
  },
  {
   "cell_type": "code",
   "execution_count": 21,
   "outputs": [
    {
     "name": "stdout",
     "output_type": "stream",
     "text": [
      "<html>\n",
      " <head>\n",
      "  <meta content=\"text/html; charset=utf-8\" http-equiv=\"Content-Type\"/>\n",
      " </head>\n",
      " <body>\n",
      "  <center>\n",
      "   <a href=\"http://reallymarket.com/user0201/index.asp?Afft=QM99\">\n",
      "    <img border=\"0\" src=\"http://61.129.68.17/mortad2.gif\"/>\n",
      "   </a>\n",
      "   <br/>\n",
      "   <br/>\n",
      "   <font color=\"#000000\" face=\"Arial,Helvetica\" size=\"1\">\n",
      "    Copyright 2002 - All rights reserved\n",
      "    <br/>\n",
      "    <br/>\n",
      "    If you would no longer like us \n",
      "to contact you or feel that you have\n",
      "    <br/>\n",
      "    received this email in error, \n",
      "please\n",
      "    <a href=\"http://reallymarket.com/light/watch.asp\">\n",
      "     click here \n",
      "to unsubscribe\n",
      "    </a>\n",
      "    .\n",
      "   </font>\n",
      "  </center>\n",
      " </body>\n",
      "</html>\n"
     ]
    }
   ],
   "source": [
    "soup = BeautifulSoup(html_type_emails[0].get_content(), 'html.parser')\n",
    "print(soup.prettify())"
   ],
   "metadata": {
    "collapsed": false,
    "ExecuteTime": {
     "end_time": "2023-08-06T16:57:14.998434800Z",
     "start_time": "2023-08-06T16:57:14.946826500Z"
    }
   },
   "id": "d5dac9e54b2fa7d3"
  },
  {
   "cell_type": "code",
   "execution_count": 22,
   "outputs": [
    {
     "data": {
      "text/plain": "'http://reallymarket.com/user0201/index.asp?Afft=QM99'"
     },
     "execution_count": 22,
     "metadata": {},
     "output_type": "execute_result"
    }
   ],
   "source": [
    "soup.find_all('a')[0]['href']"
   ],
   "metadata": {
    "collapsed": false,
    "ExecuteTime": {
     "end_time": "2023-08-06T16:58:19.807334900Z",
     "start_time": "2023-08-06T16:58:19.778328100Z"
    }
   },
   "id": "6087d0751b2b74f4"
  },
  {
   "cell_type": "code",
   "execution_count": 23,
   "outputs": [],
   "source": [
    "def get_text(e_mail):\n",
    "    for part in e_mail.walk():\n",
    "        ctype = part.get_content_type()\n",
    "        if not ctype in ['text/plain', 'text/html']:\n",
    "            continue\n",
    "        try:\n",
    "            content = part.get_content()\n",
    "        except:\n",
    "            content = str(part.get_payload())\n",
    "        if ctype == 'text/plain':\n",
    "            return content\n",
    "        else:\n",
    "            soup = BeautifulSoup(content, 'html.parser')\n",
    "            content = '\\n'.join([i for i in filter(bool, soup.get_text().split('\\n'))])\n",
    "        return content"
   ],
   "metadata": {
    "collapsed": false,
    "ExecuteTime": {
     "end_time": "2023-08-06T16:58:24.195281300Z",
     "start_time": "2023-08-06T16:58:24.155663700Z"
    }
   },
   "id": "98d0b95ed245a18a"
  },
  {
   "cell_type": "code",
   "execution_count": 28,
   "outputs": [],
   "source": [
    "class WordExtractor(base.BaseEstimator, base.TransformerMixin):\n",
    "    def __init__(self):\n",
    "        pass\n",
    "    def fit(self, X, y=None):\n",
    "        return self\n",
    "    def transform(self, X, y=None):\n",
    "        X_transformed = []\n",
    "        for email in X:\n",
    "            text = get_text(email) or ''\n",
    "            word_counter = Counter(text.split())\n",
    "            X_transformed.append(word_counter)\n",
    "        return np.array(X_transformed)"
   ],
   "metadata": {
    "collapsed": false,
    "ExecuteTime": {
     "end_time": "2023-08-06T17:19:09.392113100Z",
     "start_time": "2023-08-06T17:19:09.350776500Z"
    }
   },
   "id": "abfe1de07f25a907"
  },
  {
   "cell_type": "code",
   "execution_count": 51,
   "outputs": [],
   "source": [
    "class WordToVec(base.BaseEstimator, base.TransformerMixin):\n",
    "    def __init__(self, vocab_size=1000):\n",
    "        self.vocab_size = vocab_size\n",
    "        self.vocab = None\n",
    "    \n",
    "    def fit(self, X, y=None):\n",
    "        total_counter = Counter()\n",
    "        for word_count in X:\n",
    "            for word, count in word_count.items():\n",
    "                total_counter[word] += min(count, 10)\n",
    "        most_freq = total_counter.most_common()[:self.vocab_size]\n",
    "        self.vocab = {word: index+1 for index, (word, count) in enumerate(most_freq)}\n",
    "        return self\n",
    "    \n",
    "    def transform(self, X, y=None):\n",
    "        rows=[]\n",
    "        cols=[]\n",
    "        data=[]\n",
    "        for row, word_count in enumerate(X):\n",
    "            for word, count in word_count.items():\n",
    "                cols.append(self.vocab.get(word, 0))\n",
    "                rows.append(row)\n",
    "                data.append(count)\n",
    "        return csr_matrix((data, (rows, cols)), shape=(len(X), self.vocab_size+1))"
   ],
   "metadata": {
    "collapsed": false,
    "ExecuteTime": {
     "end_time": "2023-08-06T17:39:58.932541700Z",
     "start_time": "2023-08-06T17:39:58.837028200Z"
    }
   },
   "id": "c3913da25e930c50"
  },
  {
   "cell_type": "code",
   "execution_count": 56,
   "outputs": [],
   "source": [
    "transf_pipe = pipeline.Pipeline([('wordex', WordExtractor()),\n",
    "                                 ('wordtovec', WordToVec(1000))])\n",
    "\n",
    "X_train_prep = transf_pipe.fit_transform(X_train)"
   ],
   "metadata": {
    "collapsed": false,
    "ExecuteTime": {
     "end_time": "2023-08-06T17:42:18.169165Z",
     "start_time": "2023-08-06T17:42:15.708030Z"
    }
   },
   "id": "ec0fa6469958c531"
  },
  {
   "cell_type": "code",
   "execution_count": 58,
   "outputs": [
    {
     "data": {
      "text/plain": "array([[ 76,   8,   5, ...,   0,   0,   0],\n       [ 17,   1,   1, ...,   0,   0,   0],\n       [ 28,   5,   3, ...,   0,   0,   0],\n       ...,\n       [243,  19,   2, ...,   0,   0,   0],\n       [ 25,   6,   0, ...,   0,   0,   0],\n       [169,  11,  10, ...,   0,   0,   0]], dtype=int32)"
     },
     "execution_count": 58,
     "metadata": {},
     "output_type": "execute_result"
    }
   ],
   "source": [
    "X_train_prep.toarray()"
   ],
   "metadata": {
    "collapsed": false,
    "ExecuteTime": {
     "end_time": "2023-08-06T17:42:29.465495500Z",
     "start_time": "2023-08-06T17:42:29.437491300Z"
    }
   },
   "id": "90785b582ad27c08"
  },
  {
   "cell_type": "code",
   "execution_count": 63,
   "outputs": [
    {
     "data": {
      "text/plain": "{'the': 1,\n 'to': 2,\n 'a': 3,\n 'and': 4,\n 'of': 5,\n '>': 6,\n 'is': 7,\n 'in': 8,\n 'I': 9,\n 'for': 10,\n 'that': 11,\n 'you': 12,\n 'it': 13,\n 'on': 14,\n 'with': 15,\n 'this': 16,\n 'be': 17,\n 'have': 18,\n 'are': 19,\n 'from': 20,\n 'or': 21,\n 'as': 22,\n 'not': 23,\n 'your': 24,\n 'The': 25,\n 'at': 26,\n '-': 27,\n 'an': 28,\n 'but': 29,\n 'can': 30,\n 'by': 31,\n 'was': 32,\n 'my': 33,\n 'will': 34,\n 'all': 35,\n '--': 36,\n 'has': 37,\n 'if': 38,\n 'about': 39,\n 'they': 40,\n 'more': 41,\n 'This': 42,\n 'do': 43,\n 'just': 44,\n 'get': 45,\n 'out': 46,\n 'would': 47,\n 'we': 48,\n 'one': 49,\n 'so': 50,\n 'use': 51,\n 'like': 52,\n 'which': 53,\n 'who': 54,\n 'list': 55,\n 'only': 56,\n 'their': 57,\n 'our': 58,\n 'up': 59,\n 'some': 60,\n 'If': 61,\n 'any': 62,\n 'been': 63,\n 'what': 64,\n 'email': 65,\n 'than': 66,\n 'You': 67,\n 'no': 68,\n 'people': 69,\n 'other': 70,\n 'mailing': 71,\n \"don't\": 72,\n 'there': 73,\n 'when': 74,\n '2002': 75,\n 'new': 76,\n 'me': 77,\n 'wrote:': 78,\n 'It': 79,\n 'Date:': 80,\n \"I'm\": 81,\n 'make': 82,\n 'into': 83,\n '_______________________________________________': 84,\n 'In': 85,\n 'also': 86,\n 'On': 87,\n 'had': 88,\n 'time': 89,\n 'how': 90,\n \"it's\": 91,\n 'then': 92,\n 'should': 93,\n 'could': 94,\n 'To': 95,\n 'because': 96,\n 'We': 97,\n 'over': 98,\n 'URL:': 99,\n 'think': 100,\n 'he': 101,\n 'them': 102,\n 'were': 103,\n 'even': 104,\n 'his': 105,\n 'may': 106,\n 'A': 107,\n 'want': 108,\n 'its': 109,\n '>>': 110,\n 'most': 111,\n 'way': 112,\n 'need': 113,\n 'same': 114,\n 'using': 115,\n 'first': 116,\n 'know': 117,\n 'much': 118,\n 'many': 119,\n 'these': 120,\n 'where': 121,\n 'see': 122,\n 'But': 123,\n 'those': 124,\n 'now': 125,\n 'message': 126,\n 'here': 127,\n 'go': 128,\n 'being': 129,\n 'work': 130,\n 'very': 131,\n 'after': 132,\n 'it.': 133,\n 'send': 134,\n \"I've\": 135,\n ':': 136,\n 'does': 137,\n 'through': 138,\n 'find': 139,\n '|': 140,\n 'good': 141,\n '&': 142,\n 'own': 143,\n 'Linux': 144,\n 'still': 145,\n 'said': 146,\n 'take': 147,\n 'such': 148,\n 'And': 149,\n 'few': 150,\n 'For': 151,\n 'money': 152,\n 'something': 153,\n 'two': 154,\n 'us': 155,\n 'line': 156,\n 'before': 157,\n 'Sep': 158,\n 'really': 159,\n 'used': 160,\n 'please': 161,\n '...': 162,\n 'information': 163,\n 'mail': 164,\n 'am': 165,\n 'Not': 166,\n 'Your': 167,\n 'every': 168,\n 'free': 169,\n 'made': 170,\n '1': 171,\n 'right': 172,\n 'last': 173,\n 'old': 174,\n '#': 175,\n 'might': 176,\n 'change': 177,\n 'each': 178,\n 'years': 179,\n '*': 180,\n 'without': 181,\n 'got': 182,\n 'They': 183,\n 'found': 184,\n 'messages': 185,\n 'since': 186,\n 'give': 187,\n 'did': 188,\n \"doesn't\": 189,\n 'say': 190,\n 'help': 191,\n \"can't\": 192,\n 'sure': 193,\n 'From:': 194,\n 'best': 195,\n '2': 196,\n 'So': 197,\n 'different': 198,\n 'run': 199,\n \"It's\": 200,\n 'well': 201,\n 'spam': 202,\n 'receive': 203,\n 'next': 204,\n 'set': 205,\n 'off': 206,\n 'going': 207,\n 'September': 208,\n 'while': 209,\n 'file': 210,\n '-------------------------------------------------------': 211,\n 'No': 212,\n 'New': 213,\n 'There': 214,\n 'sponsored': 215,\n 'too': 216,\n 'What': 217,\n 'sf.net': 218,\n '<RPM-List@freshrpms.net>': 219,\n '4': 220,\n 'another': 221,\n \"I'll\": 222,\n 'RPM-List': 223,\n 'http://lists.freshrpms.net/mailman/listinfo/rpm-list': 224,\n \"I'd\": 225,\n 'keep': 226,\n 'better': 227,\n 'back': 228,\n 'address': 229,\n 'As': 230,\n 'FREE': 231,\n 'put': 232,\n 'number': 233,\n '2002,': 234,\n 'within': 235,\n 'between': 236,\n 'down': 237,\n \"you're\": 238,\n 'business': 239,\n 'things': 240,\n 'never': 241,\n 'problem': 242,\n 'try': 243,\n 'per': 244,\n 'All': 245,\n 'system': 246,\n '[1]': 247,\n 'look': 248,\n 'probably': 249,\n 'That': 250,\n 'less': 251,\n 'come': 252,\n 'around': 253,\n 'i': 254,\n 'files': 255,\n 'actually': 256,\n 'it,': 257,\n 'must': 258,\n 'under': 259,\n 'anyone': 260,\n 'long': 261,\n 'Internet': 262,\n 'data': 263,\n 'My': 264,\n 'Get': 265,\n 'running': 266,\n 'subject': 267,\n 'Yahoo!': 268,\n 'why': 269,\n 'received': 270,\n 'she': 271,\n 'end': 272,\n 'both': 273,\n 'name': 274,\n 'her': 275,\n 'seems': 276,\n 'When': 277,\n 'home': 278,\n 'someone': 279,\n 'day': 280,\n 'wish': 281,\n 'company': 282,\n 'TO': 283,\n 'Groups': 284,\n 'looking': 285,\n 'doing': 286,\n 'THE': 287,\n 'Please': 288,\n 'thing': 289,\n \"didn't\": 290,\n 'supplied': 291,\n 'code': 292,\n 'Matthias': 293,\n 'anything': 294,\n 'Of': 295,\n 'least': 296,\n 'List': 297,\n 'world': 298,\n 'web': 299,\n 'He': 300,\n 'little': 301,\n '3': 302,\n 'working': 303,\n 'great': 304,\n 'real': 305,\n 'part': 306,\n 'against': 307,\n 'information.': 308,\n 'support': 309,\n '5': 310,\n 'trying': 311,\n 'access': 312,\n 'read': 313,\n '10': 314,\n 'lot': 315,\n 'ever': 316,\n 'government': 317,\n 'click': 318,\n 'time,': 319,\n 'sent': 320,\n 'American': 321,\n 'One': 322,\n 'you.': 323,\n 'already': 324,\n 'YOU': 325,\n 'million': 326,\n 'program': 327,\n 'start': 328,\n 'call': 329,\n 'current': 330,\n 'NOT': 331,\n 'add': 332,\n 'software': 333,\n 'US': 334,\n 'based': 335,\n \"that's\": 336,\n 'to:': 337,\n 'rpm': 338,\n 'e-mail': 339,\n 'Now': 340,\n 'Subject:': 341,\n 'Free': 342,\n 'package': 343,\n 'build': 344,\n 'following': 345,\n 'With': 346,\n 'user': 347,\n 'Red': 348,\n 'Irish': 349,\n 'unsubscribe': 350,\n 'year': 351,\n 'version': 352,\n 'site': 353,\n 'having': 354,\n 'getting': 355,\n '?': 356,\n 'always': 357,\n \"That's\": 358,\n 'done': 359,\n 'To:': 360,\n 'server': 361,\n 'tell': 362,\n 'by:': 363,\n 'making': 364,\n 'until': 365,\n 'Aug': 366,\n 'Just': 367,\n 'able': 368,\n \"isn't\": 369,\n 'World': 370,\n 'link': 371,\n 'OF': 372,\n 'called': 373,\n 'open': 374,\n 'removed': 375,\n 'check': 376,\n 'How': 377,\n '=': 378,\n 'public': 379,\n 'case': 380,\n 'total': 381,\n '[2]': 382,\n \"Users'\": 383,\n '(un)subscription': 384,\n 'maintainer:': 385,\n 'listmaster@linux.ie': 386,\n 'receiving': 387,\n 'seem': 388,\n 'computer': 389,\n 'form': 390,\n 'At': 391,\n \"there's\": 392,\n 'enough': 393,\n 'life': 394,\n 'Is': 395,\n 'exmh': 396,\n 'Do': 397,\n 'easy': 398,\n 'once': 399,\n 'provide': 400,\n 'Hat': 401,\n '\"The': 402,\n 'point': 403,\n 'them.': 404,\n 'nothing': 405,\n 'available': 406,\n 'large': 407,\n 'Click': 408,\n 'including': 409,\n 'security': 410,\n 'order': 411,\n 'said.': 412,\n 'upon': 413,\n 'time.': 414,\n 'Our': 415,\n 'problems': 416,\n 'tried': 417,\n 'AND': 418,\n 'test': 419,\n 'seen': 420,\n 'thought': 421,\n 'during': 422,\n 'pay': 423,\n 'ilug@linux.ie': 424,\n 'install': 425,\n '.': 426,\n 'service': 427,\n 'key': 428,\n 'further': 429,\n 'state': 430,\n 'three': 431,\n 'FREE!': 432,\n 'remove': 433,\n 'says': 434,\n 'place': 435,\n 'times': 436,\n 'else': 437,\n 'Group:': 438,\n 'A.': 439,\n 'http://www.linux.ie/mailman/listinfo/ilug': 440,\n 'United': 441,\n \"Don't\": 442,\n 'rather': 443,\n 'YOUR': 444,\n 'given': 445,\n 'political': 446,\n 'small': 447,\n 'person': 448,\n 'list,': 449,\n '23': 450,\n 'release': 451,\n 'companies': 452,\n 'country': 453,\n 'offer': 454,\n 'become': 455,\n 'far': 456,\n 'allow': 457,\n 'rights': 458,\n 'high': 459,\n 'packages': 460,\n 'days': 461,\n 'hard': 462,\n 'believe': 463,\n 'group,': 464,\n 'means': 465,\n 'idea': 466,\n '+': 467,\n 'makes': 468,\n 'list.': 469,\n 'below': 470,\n 'Software': 471,\n 'full': 472,\n 'big': 473,\n 'quite': 474,\n 'contact': 475,\n 'important': 476,\n 'text': 477,\n 'Perl': 478,\n 'cell': 479,\n 'future': 480,\n 'show': 481,\n 'that.': 482,\n 'him': 483,\n 'Web': 484,\n 'went': 485,\n 'let': 486,\n 'works': 487,\n 'stuff': 488,\n 'kind': 489,\n 'today': 490,\n 'source': 491,\n 'often': 492,\n 'Once': 493,\n 'kernel': 494,\n '\"I': 495,\n 'forteana-unsubscribe@egroups.com': 496,\n 'http://docs.yahoo.com/info/terms/': 497,\n 'several': 498,\n 'simply': 499,\n 'personal': 500,\n 'instead': 501,\n 'wrote': 502,\n 'simple': 503,\n 'came': 504,\n 'stop': 505,\n 'FOR': 506,\n 'Sent:': 507,\n 'Any': 508,\n 'August': 509,\n 'Mr.': 510,\n 'via': 511,\n 'report': 512,\n 'almost': 513,\n 'installed': 514,\n 'pretty': 515,\n 'financial': 516,\n 'cannot': 517,\n 'opportunity': 518,\n 'possible': 519,\n 'THIS': 520,\n 'Tired': 521,\n 'either': 522,\n 'special': 523,\n 'said:': 524,\n 'second': 525,\n 'Here': 526,\n 'whether': 527,\n 'Spamassassin-talk': 528,\n 'Spamassassin-talk@lists.sourceforge.net': 529,\n 'https://lists.sourceforge.net/lists/listinfo/spamassassin-talk': 530,\n 'PM': 531,\n 'buy': 532,\n '(or': 533,\n 'global': 534,\n 'OSDN': 535,\n 'phone?': 536,\n 'now.': 537,\n '(and': 538,\n '/': 539,\n 'whole': 540,\n 'currently': 541,\n 'These': 542,\n 'past': 543,\n 'Bush': 544,\n 'top': 545,\n 'that,': 546,\n 'recent': 547,\n 'error': 548,\n 'investment': 549,\n 'folder': 550,\n 'search': 551,\n 'understand': 552,\n 'U.S.': 553,\n 'Wed,': 554,\n 'gets': 555,\n 'Mon,': 556,\n 'include': 557,\n 'log': 558,\n 'results': 559,\n 'writes:': 560,\n 'news': 561,\n 'bit': 562,\n 'course,': 563,\n 'local': 564,\n 'feel': 565,\n 'Chris': 566,\n 'false': 567,\n 'told': 568,\n 'market': 569,\n 'maybe': 570,\n 'https://www.inphonic.com/r.asp?r=sourceforge1&refcode1=vs3390': 571,\n '8': 572,\n 'hours': 573,\n 'geek': 574,\n 'live': 575,\n 'type': 576,\n 'there.': 577,\n '0': 578,\n 'etc.': 579,\n 'Or': 580,\n 'story': 581,\n 'online': 582,\n 'fact': 583,\n 'power': 584,\n 'States': 585,\n '{': 586,\n 'reason': 587,\n 'Saou': 588,\n 'move': 589,\n 'database': 590,\n 'write': 591,\n \"world's\": 592,\n ':)': 593,\n 'services': 594,\n 'women': 595,\n 'complete': 596,\n 'friends': 597,\n 'marketing': 598,\n 'Message-----': 599,\n 'word': 600,\n 'major': 601,\n 'By': 602,\n 'Trade': 603,\n 'needed': 604,\n 'sending': 605,\n 'easily': 606,\n 'copy': 607,\n 'again': 608,\n 'Why': 609,\n 'half': 610,\n 'across': 611,\n 'away': 612,\n '---': 613,\n 'known': 614,\n 'cash': 615,\n 'HERE': 616,\n 'everything': 617,\n 'thousands': 618,\n 'months': 619,\n 'Most': 620,\n 'network': 621,\n 'looks': 622,\n 'create': 623,\n '-----Original': 624,\n 'directory': 625,\n '0.000': 626,\n 'legal': 627,\n 'learn': 628,\n 'bad': 629,\n 'posted': 630,\n '-----': 631,\n 'human': 632,\n 'Thanks': 633,\n 'rate': 634,\n 'Welcome': 635,\n 'needs': 636,\n 'due': 637,\n 'family': 638,\n 'single': 639,\n '==': 640,\n 'After': 641,\n 'heaven.': 642,\n 'process': 643,\n '20': 644,\n 'DVD': 645,\n 'lost': 646,\n 'week': 647,\n 'by:ThinkGeek': 648,\n 'technology': 649,\n 'root': 650,\n 'dollars': 651,\n \"you'll\": 652,\n 'worth': 653,\n 'mean': 654,\n 'save': 655,\n 'return': 656,\n 'value': 657,\n 'gives': 658,\n 'men': 659,\n 'Thu,': 660,\n 'Best': 661,\n '}': 662,\n 'http://thinkgeek.com/sf': 663,\n 'systems': 664,\n 'John': 665,\n 'However,': 666,\n 'Business': 667,\n 'domain': 668,\n 'similar': 669,\n 'Lawrence': 670,\n '24': 671,\n \"won't\": 672,\n 'law': 673,\n 'account': 674,\n 'deal': 675,\n 'ability': 676,\n 'users': 677,\n 'original': 678,\n 'entire': 679,\n '6': 680,\n 'month': 681,\n 'phone': 682,\n 'product': 683,\n 'general': 684,\n 'happy': 685,\n 'Link[1]': 686,\n 'is,': 687,\n 'PGP': 688,\n 'left': 689,\n 'others': 690,\n 'box': 691,\n 'money.': 692,\n 'Then': 693,\n 'you,': 694,\n 'building': 695,\n 'income': 696,\n '1.': 697,\n 'Re:': 698,\n 'President': 699,\n 'started': 700,\n 'continue': 701,\n '>>>': 702,\n 'me.': 703,\n 'issue': 704,\n 'Discuss[2]': 705,\n 'answer': 706,\n 'me,': 707,\n 'Exmh-users': 708,\n 'Exmh-users@redhat.com': 709,\n 'https://listman.redhat.com/mailman/listinfo/exmh-users': 710,\n 'respect': 711,\n 'C': 712,\n 'question': 713,\n 'cost': 714,\n 'wanted': 715,\n 'taken': 716,\n '[3]': 717,\n 'AM': 718,\n 'thinking': 719,\n 'comes': 720,\n 'addresses': 721,\n 'living': 722,\n '-------': 723,\n '!': 724,\n 'policy': 725,\n 'course': 726,\n 'whose': 727,\n 'York': 728,\n 'Tue,': 729,\n 'programs': 730,\n 'growing': 731,\n 'potential': 732,\n 'ALL': 733,\n 'military': 734,\n 'took': 735,\n 'added': 736,\n 'specific': 737,\n \"wasn't\": 738,\n '***': 739,\n 'clear': 740,\n 'R.': 741,\n 'here.': 742,\n 'along': 743,\n 'job': 744,\n 'sell': 745,\n 'heard': 746,\n 'October': 747,\n 'IN': 748,\n 'exactly': 749,\n 'HTML': 750,\n 'Razor-users': 751,\n 'Copyright': 752,\n 'ideas': 753,\n 'coming': 754,\n 'NO': 755,\n 'foreign': 756,\n 'Can': 757,\n 'latest': 758,\n 'now,': 759,\n 'response': 760,\n 'IS': 761,\n 'Razor-users@lists.sourceforge.net': 762,\n 'https://lists.sourceforge.net/lists/listinfo/razor-users': 763,\n 'secure': 764,\n 'CLICK': 765,\n 'Windows': 766,\n 'amount': 767,\n 'plan': 768,\n 'window': 769,\n 'size': 770,\n 'share': 771,\n 'orders': 772,\n 'lines': 773,\n 'experience': 774,\n 'emails': 775,\n 'said,': 776,\n 'Java': 777,\n 'wants': 778,\n 'Government': 779,\n '100%': 780,\n 'this,': 781,\n 'Even': 782,\n 'though': 783,\n 'yet': 784,\n 'willing': 785,\n 'application': 786,\n 'Behalf': 787,\n 'recently': 788,\n 'remember': 789,\n 'way.': 790,\n 'fill': 791,\n 'names': 792,\n '------------------------': 793,\n 'Sponsor': 794,\n 'America': 795,\n 'increase': 796,\n 'above': 797,\n 'claim': 798,\n 'war': 799,\n 'later': 800,\n 'Robert': 801,\n 'interesting': 802,\n 'Order': 803,\n 'talking': 804,\n '---------------------~-->': 805,\n '---------------------------------------------------------------------~->': 806,\n 'reading': 807,\n 'worked': 808,\n 'play': 809,\n ';-)': 810,\n 'longer': 811,\n 'Network': 812,\n 'man': 813,\n ':-)': 814,\n 'office': 815,\n 'sites': 816,\n 'Gary': 817,\n 'offers': 818,\n 'subscribed': 819,\n '2.': 820,\n 'apt': 821,\n 'Oct': 822,\n 'interest': 823,\n 'content': 824,\n 'headers': 825,\n 'particular': 826,\n 'love': 827,\n '11': 828,\n 'reply': 829,\n 'Hettinga': 830,\n 'early': 831,\n 'people,': 832,\n 'individuals': 833,\n 'out.': 834,\n 'various': 835,\n 'case,': 836,\n \"they're\": 837,\n 'this.': 838,\n 'although': 839,\n 'article': 840,\n 'rest': 841,\n 'Well,': 842,\n \"haven't\": 843,\n 'Adam': 844,\n 'takes': 845,\n 'Google': 846,\n 'sort': 847,\n 'Some': 848,\n \"we're\": 849,\n 'short': 850,\n 'Center': 851,\n 'taking': 852,\n 'well.': 853,\n 'valuable': 854,\n 'paid': 855,\n 'Join': 856,\n 'management': 857,\n 'Email': 858,\n 'interested': 859,\n 'Home': 860,\n '@@': 861,\n 'control': 862,\n 'goes': 863,\n 'countries': 864,\n 'economic': 865,\n 'SpamAssassin': 866,\n 'Maybe': 867,\n 'performance': 868,\n 'private': 869,\n 'agree': 870,\n '(the': 871,\n 'price': 872,\n 'turn': 873,\n 'Thank': 874,\n 'unseen': 875,\n 'First': 876,\n 'looked': 877,\n 'custom': 878,\n 'Are': 879,\n 'development': 880,\n '12': 881,\n 'ask': 882,\n 'System': 883,\n 'So,': 884,\n 'Since': 885,\n 'party': 886,\n 'hope': 887,\n 'DO': 888,\n 'ham': 889,\n '(I': 890,\n 'internet': 891,\n 'especially': 892,\n 'http://xent.com/mailman/listinfo/fork': 893,\n \"wouldn't\": 894,\n 'numbers': 895,\n 'accept': 896,\n 'USA': 897,\n '7': 898,\n 'L.': 899,\n 'starting': 900,\n 'group': 901,\n 'main': 902,\n 'digital': 903,\n 'press': 904,\n 'ensure': 905,\n 'words': 906,\n 'likely': 907,\n '50': 908,\n 'University': 909,\n 'cause': 910,\n 'area': 911,\n 'fork-admin@xent.com': 912,\n 'rates': 913,\n 'true': 914,\n 'work.': 915,\n 'header': 916,\n 'guess': 917,\n 'greater': 918,\n 'close': 919,\n 'saying': 920,\n 'body': 921,\n 'common': 922,\n 'hit': 923,\n 'changed': 924,\n 'weeks': 925,\n 'drive': 926,\n 'four': 927,\n 'level': 928,\n 'rule': 929,\n 'invoked': 930,\n 'page': 931,\n 'average': 932,\n 'completely': 933,\n 'Group': 934,\n 'care': 935,\n '100': 936,\n 'leave': 937,\n '>>>>>': 938,\n 'visit': 939,\n 'sex': 940,\n 'reach': 941,\n 'nice': 942,\n 'everyone': 943,\n 'individual': 944,\n 'Computer': 945,\n '18': 946,\n 'Corporation': 947,\n 'soon': 948,\n 'directly': 949,\n 'except': 950,\n 'National': 951,\n 'hundreds': 952,\n 'More': 953,\n 'decided': 954,\n 'mind': 955,\n 'book': 956,\n 'Only': 957,\n 'e-mails': 958,\n 'example,': 959,\n 'largest': 960,\n 'developing': 961,\n 'at:': 962,\n 'Fri,': 963,\n 'Yes,': 964,\n 'national': 965,\n '30': 966,\n 'require': 967,\n 'figure': 968,\n 'An': 969,\n 'Does': 970,\n 'Murphy': 971,\n 'insurance': 972,\n 'finding': 973,\n 'Phone': 974,\n 'third': 975,\n 'War': 976,\n 'training': 977,\n 'Security': 978,\n 'matter': 979,\n 'People': 980,\n 'yourself': 981,\n 'Have': 982,\n 'usually': 983,\n 'immediately': 984,\n 'act': 985,\n '\"': 986,\n 'spams': 987,\n 'successful': 988,\n 'South': 989,\n 'communications': 990,\n 'couple': 991,\n 'international': 992,\n '25': 993,\n 'SA': 994,\n '<': 995,\n 'them,': 996,\n 'mass': 997,\n 'plus': 998,\n 'requires': 999,\n 'razor': 1000}"
     },
     "execution_count": 63,
     "metadata": {},
     "output_type": "execute_result"
    }
   ],
   "source": [
    "transf_pipe.named_steps['wordtovec'].vocab"
   ],
   "metadata": {
    "collapsed": false,
    "ExecuteTime": {
     "end_time": "2023-08-06T17:45:28.579214Z",
     "start_time": "2023-08-06T17:45:28.531358200Z"
    }
   },
   "id": "21883715cb9b9cc3"
  },
  {
   "cell_type": "code",
   "execution_count": 85,
   "outputs": [
    {
     "name": "stdout",
     "output_type": "stream",
     "text": [
      "[CV] END ................................ score: (test=0.985) total time=   1.2s\n"
     ]
    },
    {
     "name": "stderr",
     "output_type": "stream",
     "text": [
      "C:\\Users\\thory\\DataspellProjects\\my_portfolio\\venv\\lib\\site-packages\\sklearn\\linear_model\\_logistic.py:460: ConvergenceWarning: lbfgs failed to converge (status=1):\n",
      "STOP: TOTAL NO. of ITERATIONS REACHED LIMIT.\n",
      "\n",
      "Increase the number of iterations (max_iter) or scale the data as shown in:\n",
      "    https://scikit-learn.org/stable/modules/preprocessing.html\n",
      "Please also refer to the documentation for alternative solver options:\n",
      "    https://scikit-learn.org/stable/modules/linear_model.html#logistic-regression\n",
      "  n_iter_i = _check_optimize_result(\n"
     ]
    },
    {
     "name": "stdout",
     "output_type": "stream",
     "text": [
      "[CV] END ................................ score: (test=0.979) total time=   1.3s\n",
      "[CV] END ................................ score: (test=0.983) total time=   0.8s\n"
     ]
    },
    {
     "name": "stderr",
     "output_type": "stream",
     "text": [
      "C:\\Users\\thory\\DataspellProjects\\my_portfolio\\venv\\lib\\site-packages\\sklearn\\linear_model\\_logistic.py:460: ConvergenceWarning: lbfgs failed to converge (status=1):\n",
      "STOP: TOTAL NO. of ITERATIONS REACHED LIMIT.\n",
      "\n",
      "Increase the number of iterations (max_iter) or scale the data as shown in:\n",
      "    https://scikit-learn.org/stable/modules/preprocessing.html\n",
      "Please also refer to the documentation for alternative solver options:\n",
      "    https://scikit-learn.org/stable/modules/linear_model.html#logistic-regression\n",
      "  n_iter_i = _check_optimize_result(\n"
     ]
    },
    {
     "data": {
      "text/plain": "0.9820895755305868"
     },
     "execution_count": 85,
     "metadata": {},
     "output_type": "execute_result"
    }
   ],
   "source": [
    "log_clf = linear_model.LogisticRegression(solver=\"lbfgs\", max_iter=1000, random_state=42)\n",
    "score = model_selection.cross_val_score(log_clf, X_train_prep, y_train.ravel(), cv=3, verbose=3, scoring='precision')\n",
    "score.mean()"
   ],
   "metadata": {
    "collapsed": false,
    "ExecuteTime": {
     "end_time": "2023-08-06T18:12:08.589020600Z",
     "start_time": "2023-08-06T18:12:04.943428300Z"
    }
   },
   "id": "92d0fde625cd3b44"
  },
  {
   "cell_type": "code",
   "execution_count": 86,
   "outputs": [
    {
     "name": "stderr",
     "output_type": "stream",
     "text": [
      "C:\\Users\\thory\\DataspellProjects\\my_portfolio\\venv\\lib\\site-packages\\sklearn\\linear_model\\_logistic.py:460: ConvergenceWarning: lbfgs failed to converge (status=1):\n",
      "STOP: TOTAL NO. of ITERATIONS REACHED LIMIT.\n",
      "\n",
      "Increase the number of iterations (max_iter) or scale the data as shown in:\n",
      "    https://scikit-learn.org/stable/modules/preprocessing.html\n",
      "Please also refer to the documentation for alternative solver options:\n",
      "    https://scikit-learn.org/stable/modules/linear_model.html#logistic-regression\n",
      "  n_iter_i = _check_optimize_result(\n"
     ]
    },
    {
     "data": {
      "text/plain": "LogisticRegression(max_iter=1000, random_state=42)",
      "text/html": "<style>#sk-container-id-4 {color: black;}#sk-container-id-4 pre{padding: 0;}#sk-container-id-4 div.sk-toggleable {background-color: white;}#sk-container-id-4 label.sk-toggleable__label {cursor: pointer;display: block;width: 100%;margin-bottom: 0;padding: 0.3em;box-sizing: border-box;text-align: center;}#sk-container-id-4 label.sk-toggleable__label-arrow:before {content: \"▸\";float: left;margin-right: 0.25em;color: #696969;}#sk-container-id-4 label.sk-toggleable__label-arrow:hover:before {color: black;}#sk-container-id-4 div.sk-estimator:hover label.sk-toggleable__label-arrow:before {color: black;}#sk-container-id-4 div.sk-toggleable__content {max-height: 0;max-width: 0;overflow: hidden;text-align: left;background-color: #f0f8ff;}#sk-container-id-4 div.sk-toggleable__content pre {margin: 0.2em;color: black;border-radius: 0.25em;background-color: #f0f8ff;}#sk-container-id-4 input.sk-toggleable__control:checked~div.sk-toggleable__content {max-height: 200px;max-width: 100%;overflow: auto;}#sk-container-id-4 input.sk-toggleable__control:checked~label.sk-toggleable__label-arrow:before {content: \"▾\";}#sk-container-id-4 div.sk-estimator input.sk-toggleable__control:checked~label.sk-toggleable__label {background-color: #d4ebff;}#sk-container-id-4 div.sk-label input.sk-toggleable__control:checked~label.sk-toggleable__label {background-color: #d4ebff;}#sk-container-id-4 input.sk-hidden--visually {border: 0;clip: rect(1px 1px 1px 1px);clip: rect(1px, 1px, 1px, 1px);height: 1px;margin: -1px;overflow: hidden;padding: 0;position: absolute;width: 1px;}#sk-container-id-4 div.sk-estimator {font-family: monospace;background-color: #f0f8ff;border: 1px dotted black;border-radius: 0.25em;box-sizing: border-box;margin-bottom: 0.5em;}#sk-container-id-4 div.sk-estimator:hover {background-color: #d4ebff;}#sk-container-id-4 div.sk-parallel-item::after {content: \"\";width: 100%;border-bottom: 1px solid gray;flex-grow: 1;}#sk-container-id-4 div.sk-label:hover label.sk-toggleable__label {background-color: #d4ebff;}#sk-container-id-4 div.sk-serial::before {content: \"\";position: absolute;border-left: 1px solid gray;box-sizing: border-box;top: 0;bottom: 0;left: 50%;z-index: 0;}#sk-container-id-4 div.sk-serial {display: flex;flex-direction: column;align-items: center;background-color: white;padding-right: 0.2em;padding-left: 0.2em;position: relative;}#sk-container-id-4 div.sk-item {position: relative;z-index: 1;}#sk-container-id-4 div.sk-parallel {display: flex;align-items: stretch;justify-content: center;background-color: white;position: relative;}#sk-container-id-4 div.sk-item::before, #sk-container-id-4 div.sk-parallel-item::before {content: \"\";position: absolute;border-left: 1px solid gray;box-sizing: border-box;top: 0;bottom: 0;left: 50%;z-index: -1;}#sk-container-id-4 div.sk-parallel-item {display: flex;flex-direction: column;z-index: 1;position: relative;background-color: white;}#sk-container-id-4 div.sk-parallel-item:first-child::after {align-self: flex-end;width: 50%;}#sk-container-id-4 div.sk-parallel-item:last-child::after {align-self: flex-start;width: 50%;}#sk-container-id-4 div.sk-parallel-item:only-child::after {width: 0;}#sk-container-id-4 div.sk-dashed-wrapped {border: 1px dashed gray;margin: 0 0.4em 0.5em 0.4em;box-sizing: border-box;padding-bottom: 0.4em;background-color: white;}#sk-container-id-4 div.sk-label label {font-family: monospace;font-weight: bold;display: inline-block;line-height: 1.2em;}#sk-container-id-4 div.sk-label-container {text-align: center;}#sk-container-id-4 div.sk-container {/* jupyter's `normalize.less` sets `[hidden] { display: none; }` but bootstrap.min.css set `[hidden] { display: none !important; }` so we also need the `!important` here to be able to override the default hidden behavior on the sphinx rendered scikit-learn.org. See: https://github.com/scikit-learn/scikit-learn/issues/21755 */display: inline-block !important;position: relative;}#sk-container-id-4 div.sk-text-repr-fallback {display: none;}</style><div id=\"sk-container-id-4\" class=\"sk-top-container\"><div class=\"sk-text-repr-fallback\"><pre>LogisticRegression(max_iter=1000, random_state=42)</pre><b>In a Jupyter environment, please rerun this cell to show the HTML representation or trust the notebook. <br />On GitHub, the HTML representation is unable to render, please try loading this page with nbviewer.org.</b></div><div class=\"sk-container\" hidden><div class=\"sk-item\"><div class=\"sk-estimator sk-toggleable\"><input class=\"sk-toggleable__control sk-hidden--visually\" id=\"sk-estimator-id-4\" type=\"checkbox\" checked><label for=\"sk-estimator-id-4\" class=\"sk-toggleable__label sk-toggleable__label-arrow\">LogisticRegression</label><div class=\"sk-toggleable__content\"><pre>LogisticRegression(max_iter=1000, random_state=42)</pre></div></div></div></div></div>"
     },
     "execution_count": 86,
     "metadata": {},
     "output_type": "execute_result"
    }
   ],
   "source": [
    "log_clf.fit(X_train_prep, y_train.ravel())"
   ],
   "metadata": {
    "collapsed": false,
    "ExecuteTime": {
     "end_time": "2023-08-06T18:12:46.150089100Z",
     "start_time": "2023-08-06T18:12:43.967729600Z"
    }
   },
   "id": "380b6808b197ff47"
  },
  {
   "cell_type": "code",
   "execution_count": 88,
   "outputs": [
    {
     "name": "stdout",
     "output_type": "stream",
     "text": [
      "Precision: 50.00%\n",
      "Recall: 36.56%\n"
     ]
    }
   ],
   "source": [
    "X_test_prep = transf_pipe.transform(X_test)\n",
    "\n",
    "y_pred = log_clf.predict(X_test_prep)\n",
    "\n",
    "print(\"Precision: {:.2f}%\".format(100 * metrics.precision_score(y_test.ravel(), y_pred.ravel())))\n",
    "print(\"Recall: {:.2f}%\".format(100 * metrics.recall_score(y_test.ravel(), y_pred.ravel())))"
   ],
   "metadata": {
    "collapsed": false,
    "ExecuteTime": {
     "end_time": "2023-08-06T18:14:08.338944700Z",
     "start_time": "2023-08-06T18:14:07.268860100Z"
    }
   },
   "id": "3389d636e5aae22f"
  },
  {
   "cell_type": "markdown",
   "source": [
    "-_- will get back to this later "
   ],
   "metadata": {
    "collapsed": false
   },
   "id": "61a0e8a8980ac407"
  }
 ],
 "metadata": {
  "kernelspec": {
   "display_name": "Python 3",
   "language": "python",
   "name": "python3"
  },
  "language_info": {
   "codemirror_mode": {
    "name": "ipython",
    "version": 2
   },
   "file_extension": ".py",
   "mimetype": "text/x-python",
   "name": "python",
   "nbconvert_exporter": "python",
   "pygments_lexer": "ipython2",
   "version": "2.7.6"
  }
 },
 "nbformat": 4,
 "nbformat_minor": 5
}
