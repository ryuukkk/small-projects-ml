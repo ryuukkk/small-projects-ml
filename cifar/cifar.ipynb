{
 "cells": [
  {
   "cell_type": "code",
   "execution_count": 1,
   "id": "initial_id",
   "metadata": {
    "collapsed": true,
    "ExecuteTime": {
     "end_time": "2023-11-08T19:34:11.690475Z",
     "start_time": "2023-11-08T19:34:04.624784100Z"
    }
   },
   "outputs": [],
   "source": [
    "import os.path\n",
    "\n",
    "import pandas as pd\n",
    "import numpy as np\n",
    "import scipy\n",
    "import matplotlib.pyplot as plt\n",
    "import matplotlib as mpl\n",
    "import matplotlib.animation\n",
    "import threading\n",
    "import pickle\n",
    "import joblib\n",
    "import copy\n",
    "import threading\n",
    "from sklearn import impute, preprocessing, model_selection, base, metrics, linear_model, pipeline, ensemble, svm, multiclass, neighbors, compose, datasets, decomposition, manifold\n",
    "import tensorflow as tf\n",
    "from tensorflow import keras\n",
    "import tensorflow_datasets as tfds\n",
    "import cv2\n",
    "from custom_objects import decorators\n",
    "import gym\n",
    "import pygame as pg\n",
    "import nltk\n",
    "from  nltk.tokenize import sent_tokenize, word_tokenize, wordpunct_tokenize"
   ]
  },
  {
   "cell_type": "code",
   "execution_count": null,
   "outputs": [],
   "source": [
    "cifar100, info = tfds.load('cifar100', as_supervised=True, with_info=True)"
   ],
   "metadata": {
    "collapsed": false
   },
   "id": "487993b769ed03c5"
  },
  {
   "cell_type": "code",
   "execution_count": 33,
   "outputs": [
    {
     "data": {
      "text/plain": "<Figure size 300x300 with 1 Axes>",
      "image/png": "[encoded data removed]"
     },
     "metadata": {},
     "output_type": "display_data"
    }
   ],
   "source": [
    "for image, label in cifar100['train'].take(1):\n",
    "    plt.figure(figsize=(3,3))\n",
    "    plt.imshow(image.numpy())\n",
    "    plt.title(label)\n",
    "    plt.show()"
   ],
   "metadata": {
    "collapsed": false,
    "ExecuteTime": {
     "end_time": "2023-11-08T20:09:16.887954Z",
     "start_time": "2023-11-08T20:09:16.676111400Z"
    }
   },
   "id": "fe08c95065e2ca77"
  },
  {
   "cell_type": "code",
   "execution_count": 27,
   "outputs": [],
   "source": [
    "X_train = cifar100['train'].batch(32).prefetch(1)"
   ],
   "metadata": {
    "collapsed": false,
    "ExecuteTime": {
     "end_time": "2023-11-08T19:52:19.320068Z",
     "start_time": "2023-11-08T19:52:19.285058200Z"
    }
   },
   "id": "e41e87efdff7b4ae"
  },
  {
   "cell_type": "code",
   "execution_count": 30,
   "outputs": [
    {
     "name": "stdout",
     "output_type": "stream",
     "text": [
      "tf.Tensor(\n",
      "[66 23 40 39  7 15 11 44 76 50 57 69  1 26 30 42 61 65 18 99  5 24 55 96\n",
      "  8 72 50 83 24  9 88 84], shape=(32,), dtype=int64)\n"
     ]
    }
   ],
   "source": [
    "for image, label in X_train:\n",
    "    print(label)\n",
    "    break"
   ],
   "metadata": {
    "collapsed": false,
    "ExecuteTime": {
     "end_time": "2023-11-08T19:52:46.912877800Z",
     "start_time": "2023-11-08T19:52:46.810786700Z"
    }
   },
   "id": "e50534f59294eb8a"
  },
  {
   "cell_type": "code",
   "execution_count": null,
   "outputs": [],
   "source": [
    "X_train, y_train, X_test, y_test = cifar100['train']"
   ],
   "metadata": {
    "collapsed": false
   },
   "id": "f84b3b5cafa3cedc"
  },
  {
   "cell_type": "code",
   "execution_count": null,
   "outputs": [],
   "source": [
    "def plot_images(batch, rows, columns):\n",
    "    fig, axes = plt.subplots(rows, columns, fig_size=(rows*3, columns*3))\n",
    "    for image, label in cifar100['train']"
   ],
   "metadata": {
    "collapsed": false
   },
   "id": "9432522b90f7b2dc"
  }
 ],
 "metadata": {
  "kernelspec": {
   "display_name": "Python 3",
   "language": "python",
   "name": "python3"
  },
  "language_info": {
   "codemirror_mode": {
    "name": "ipython",
    "version": 2
   },
   "file_extension": ".py",
   "mimetype": "text/x-python",
   "name": "python",
   "nbconvert_exporter": "python",
   "pygments_lexer": "ipython2",
   "version": "2.7.6"
  }
 },
 "nbformat": 4,
 "nbformat_minor": 5
}
